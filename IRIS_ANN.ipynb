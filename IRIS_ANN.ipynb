{
 "cells": [
  {
   "cell_type": "code",
   "execution_count": 49,
   "metadata": {},
   "outputs": [],
   "source": [
    "using MLBase\n",
    "using Flux\n",
    "using Flux: onehotbatch, argmax, crossentropy, throttle\n",
    "using Plots\n",
    "using DecisionTree\n",
    "using Distances\n",
    "using LIBSVM\n",
    "using CSV\n",
    "using DataFrames\n",
    "using Random"
   ]
  },
  {
   "cell_type": "code",
   "execution_count": 50,
   "metadata": {},
   "outputs": [
    {
     "data": {
      "text/plain": [
       "150-element Vector{Int64}:\n",
       " 1\n",
       " 1\n",
       " 1\n",
       " 1\n",
       " 1\n",
       " 1\n",
       " 1\n",
       " 1\n",
       " 1\n",
       " 1\n",
       " ⋮\n",
       " 3\n",
       " 3\n",
       " 3\n",
       " 3\n",
       " 3\n",
       " 3\n",
       " 3\n",
       " 3\n",
       " 3"
      ]
     },
     "metadata": {},
     "output_type": "display_data"
    }
   ],
   "source": [
    "data = CSV.read(\"Iris.csv\", DataFrame)\n",
    "X = Matrix(data[:,2:5])\n",
    "irislabels = data[:,6]\n",
    "irislabelsmap = labelmap(irislabels)\n",
    "y = labelencode(irislabelsmap,irislabels)\n"
   ]
  },
  {
   "cell_type": "code",
   "execution_count": 51,
   "metadata": {},
   "outputs": [
    {
     "data": {
      "text/plain": [
       "assing_class (generic function with 1 method)"
      ]
     },
     "metadata": {},
     "output_type": "display_data"
    }
   ],
   "source": [
    "function perclass_splits(y,at)\n",
    "    uids = unique(y)\n",
    "    keepids = []\n",
    "    for ui in uids\n",
    "        curids = findall(y.==ui)\n",
    "        rowids = randsubseq(curids, at)\n",
    "        push!(keepids,rowids...)\n",
    "    end\n",
    "    return keepids\n",
    "end\n",
    "findaccuracy(predictedvals, groundtruthvals) = sum(predictedvals.==groundtruthvals)/length(groundtruthvals)\n",
    "assing_class(predictedvalue) = argmin(abs.(predictedvalue .- [1,2,3]))"
   ]
  },
  {
   "cell_type": "code",
   "execution_count": 52,
   "metadata": {},
   "outputs": [
    {
     "data": {
      "text/plain": [
       "4×50 transpose(::Matrix{Float32}) with eltype Float32:\n",
       " 5.4  5.0  5.4  5.8  5.7  5.4  5.4  4.6  …  6.1  6.4  6.9  6.7  6.3  6.2  5.9\n",
       " 3.9  3.4  3.7  4.0  4.4  3.9  3.4  3.6     2.6  3.1  3.1  3.1  2.5  3.4  3.0\n",
       " 1.7  1.5  1.5  1.2  1.5  1.3  1.7  1.0     5.6  5.5  5.4  5.6  5.0  5.4  5.1\n",
       " 0.4  0.2  0.2  0.2  0.4  0.4  0.2  0.2     1.4  1.8  2.1  2.4  1.9  2.3  1.8"
      ]
     },
     "metadata": {},
     "output_type": "display_data"
    }
   ],
   "source": [
    "trainids = perclass_splits(y,0.7)\n",
    "testids = setdiff(1:length(y),trainids)\n",
    "x_train = X[trainids,:]\n",
    "y_train = y[trainids]\n",
    "x_test = X[testids,:]\n",
    "y_test = y[testids,:]\n",
    "x_train = transpose(Float32.(x_train))\n",
    "x_test = transpose(Float32.(x_test))"
   ]
  },
  {
   "cell_type": "code",
   "execution_count": 53,
   "metadata": {},
   "outputs": [
    {
     "data": {
      "text/plain": [
       "3×50×1 OneHotArray(::Matrix{UInt32}) with eltype Bool:\n",
       "[:, :, 1] =\n",
       " 1  1  1  1  1  1  1  1  1  1  1  1  1  …  0  0  0  0  0  0  0  0  0  0  0  0\n",
       " 0  0  0  0  0  0  0  0  0  0  0  0  0     0  0  0  0  0  0  0  0  0  0  0  0\n",
       " 0  0  0  0  0  0  0  0  0  0  0  0  0     1  1  1  1  1  1  1  1  1  1  1  1"
      ]
     },
     "metadata": {},
     "output_type": "display_data"
    }
   ],
   "source": [
    "y_train = onehotbatch(y_train,unique(y_test))\n",
    "y_test = onehotbatch(y_test, unique(y_test))"
   ]
  },
  {
   "cell_type": "code",
   "execution_count": 54,
   "metadata": {},
   "outputs": [
    {
     "data": {
      "text/plain": [
       "1-element Vector{Tuple{LinearAlgebra.Transpose{Float32, Matrix{Float32}}, OneHotArrays.OneHotArray{UInt32, 2, 3, Matrix{UInt32}}}}:\n",
       " ([5.4 5.0 … 6.2 5.9; 3.9 3.4 … 3.4 3.0; 1.7 1.5 … 5.4 5.1; 0.4 0.2 … 2.3 1.8], [1 1 … 0 0; 0 0 … 0 0; 0 0 … 1 1;;;])"
      ]
     },
     "metadata": {},
     "output_type": "display_data"
    }
   ],
   "source": [
    "data_train = [(x_train, y_train)]\n",
    "data_test = [(x_test, y_test)]"
   ]
  },
  {
   "cell_type": "code",
   "execution_count": 64,
   "metadata": {},
   "outputs": [
    {
     "data": {
      "text/plain": [
       "Params([Float32[-0.19645852 0.565241 -0.1478348 0.6326399; -0.6800285 -0.6623261 -0.086578645 0.25072914; … ; 0.37160817 -0.0009114677 -0.37272355 -0.38547978; 0.6292211 0.21652362 0.38474223 0.4369485], Float32[0.0, 0.0, 0.0, 0.0, 0.0, 0.0, 0.0, 0.0], Float32[-0.33792573 0.38113874 … -0.003458909 0.018772658; -0.1655897 -0.36877948 … -0.47811192 -0.5280431; … ; 0.32733336 -0.5619471 … 0.48255694 0.17787102; -0.22090027 0.0021322712 … 0.20563376 -0.3435873], Float32[0.0, 0.0, 0.0, 0.0, 0.0, 0.0, 0.0, 0.0], Float32[-0.15948991 -0.17896003 … 0.103806056 0.5482595; -0.6916084 0.10576702 … -0.39872247 -0.6693282; -0.6737147 0.33674052 … 0.4037147 -0.6557772], Float32[0.0, 0.0, 0.0]])"
      ]
     },
     "metadata": {},
     "output_type": "display_data"
    }
   ],
   "source": [
    "function get_model()\n",
    "    c = Chain(\n",
    "        Dense(4,8,relu),\n",
    "        Dense(8,8,relu),\n",
    "        Dense(8,3),\n",
    "        softmax\n",
    "    )\n",
    "end\n",
    "\n",
    "model = get_model()\n",
    "\n",
    "loss(x,y) = crossentropy(model(x),y)\n",
    "opt = ADAM()\n",
    "evalcb = () -> @show(loss(x_train, y_train))\n",
    "parameters = Flux.params(model)"
   ]
  },
  {
   "cell_type": "code",
   "execution_count": 65,
   "metadata": {},
   "outputs": [
    {
     "name": "stdout",
     "output_type": "stream",
     "text": [
      "loss(x_train, y_train) = 1.3992577f0\n",
      "loss(x_train, y_train) = 1.3841319f0\n",
      "loss(x_train, y_train) = 1.3694214f0\n",
      "loss(x_train, y_train) = 1.3553178f0\n",
      "loss(x_train, y_train) = 1.3417029f0\n",
      "loss(x_train, y_train) = 1.3285486f0\n",
      "loss(x_train, y_train) = 1.3159045f0\n",
      "loss(x_train, y_train) = 1.3037245f0\n",
      "loss(x_train, y_train) = 1.2919662f0\n",
      "loss(x_train, y_train) = 1.2805938f0\n",
      "loss(x_train, y_train) = 1.2696412f0\n",
      "loss(x_train, y_train) = 1.2590308f0\n",
      "loss(x_train, y_train) = 1.2487394f0\n",
      "loss(x_train, y_train) = 1.2388383f0\n",
      "loss(x_train, y_train) = 1.2293118f0\n",
      "loss(x_train, y_train) = 1.2200937f0\n",
      "loss(x_train, y_train) = 1.2111894f0\n",
      "loss(x_train, y_train) = 1.2025579f0\n",
      "loss(x_train, y_train) = 1.1941584f0\n",
      "loss(x_train, y_train) = 1.1859846f0\n",
      "loss(x_train, y_train) = 1.1780086f0\n",
      "loss(x_train, y_train) = 1.1702108f0\n",
      "loss(x_train, y_train) = 1.1625776f0\n",
      "loss(x_train, y_train) = 1.1550984f0\n",
      "loss(x_train, y_train) = 1.1477654f0\n",
      "loss(x_train, y_train) = 1.1405572f0\n",
      "loss(x_train, y_train) = 1.1334369f0\n",
      "loss(x_train, y_train) = 1.126412f0\n",
      "loss(x_train, y_train) = 1.1194268f0\n",
      "loss(x_train, y_train) = 1.1125449f0\n",
      "loss(x_train, y_train) = 1.105733f0\n",
      "loss(x_train, y_train) = 1.0989805f0\n",
      "loss(x_train, y_train) = 1.0922518f0\n",
      "loss(x_train, y_train) = 1.0855606f0\n",
      "loss(x_train, y_train) = 1.07895f0\n",
      "loss(x_train, y_train) = 1.0723642f0\n",
      "loss(x_train, y_train) = 1.0658616f0\n",
      "loss(x_train, y_train) = 1.059342f0\n",
      "loss(x_train, y_train) = 1.0528686f0\n",
      "loss(x_train, y_train) = 1.0464755f0\n",
      "loss(x_train, y_train) = 1.0401554f0\n",
      "loss(x_train, y_train) = 1.0337728f0\n",
      "loss(x_train, y_train) = 1.027318f0\n",
      "loss(x_train, y_train) = 1.0208699f0\n",
      "loss(x_train, y_train) = 1.0144768f0\n",
      "loss(x_train, y_train) = 1.008147f0\n",
      "loss(x_train, y_train) = 1.0018708f0\n",
      "loss(x_train, y_train) = 0.9956855f0\n",
      "loss(x_train, y_train) = 0.98956466f0\n",
      "loss(x_train, y_train) = 0.98349726f0\n",
      "loss(x_train, y_train) = 0.9775071f0\n",
      "loss(x_train, y_train) = 0.9715851f0\n",
      "loss(x_train, y_train) = 0.9657287f0\n",
      "loss(x_train, y_train) = 0.9599549f0\n",
      "loss(x_train, y_train) = 0.95424634f0\n",
      "loss(x_train, y_train) = 0.9486006f0\n",
      "loss(x_train, y_train) = 0.9430114f0\n",
      "loss(x_train, y_train) = 0.9374735f0\n",
      "loss(x_train, y_train) = 0.93200463f0\n",
      "loss(x_train, y_train) = 0.9265966f0\n",
      "loss(x_train, y_train) = 0.9212526f0\n",
      "loss(x_train, y_train) = 0.91597277f0\n",
      "loss(x_train, y_train) = 0.910768f0\n",
      "loss(x_train, y_train) = 0.9056301f0\n",
      "loss(x_train, y_train) = 0.90055984f0\n",
      "loss(x_train, y_train) = 0.8955632f0\n",
      "loss(x_train, y_train) = 0.89063525f0\n",
      "loss(x_train, y_train) = 0.8857744f0\n",
      "loss(x_train, y_train) = 0.88097745f0\n",
      "loss(x_train, y_train) = 0.8762532f0\n",
      "loss(x_train, y_train) = 0.8715954f0\n",
      "loss(x_train, y_train) = 0.8670017f0\n",
      "loss(x_train, y_train) = 0.8624663f0\n",
      "loss(x_train, y_train) = 0.85798866f0\n",
      "loss(x_train, y_train) = 0.853569f0\n",
      "loss(x_train, y_train) = 0.8492081f0\n",
      "loss(x_train, y_train) = 0.84490705f0\n",
      "loss(x_train, y_train) = 0.8406604f0\n",
      "loss(x_train, y_train) = 0.8364667f0\n",
      "loss(x_train, y_train) = 0.8323258f0\n",
      "loss(x_train, y_train) = 0.8282368f0\n",
      "loss(x_train, y_train) = 0.82420105f0\n",
      "loss(x_train, y_train) = 0.82021844f0\n",
      "loss(x_train, y_train) = 0.81628627f0\n",
      "loss(x_train, y_train) = 0.81240326f0\n",
      "loss(x_train, y_train) = 0.8085682f0\n",
      "loss(x_train, y_train) = 0.80478024f0\n",
      "loss(x_train, y_train) = 0.80103827f0\n",
      "loss(x_train, y_train) = 0.79734075f0\n",
      "loss(x_train, y_train) = 0.7936847f0\n",
      "loss(x_train, y_train) = 0.790071f0\n",
      "loss(x_train, y_train) = 0.7864985f0\n",
      "loss(x_train, y_train) = 0.78296614f0\n",
      "loss(x_train, y_train) = 0.7794728f0\n",
      "loss(x_train, y_train) = 0.7760195f0\n",
      "loss(x_train, y_train) = 0.7726042f0\n",
      "loss(x_train, y_train) = 0.7692258f0\n",
      "loss(x_train, y_train) = 0.7658827f0\n",
      "loss(x_train, y_train) = 0.7625738f0\n",
      "loss(x_train, y_train) = 0.7592985f0\n",
      "loss(x_train, y_train) = 0.7560559f0\n",
      "loss(x_train, y_train) = 0.7528453f0\n",
      "loss(x_train, y_train) = 0.74966544f0\n",
      "loss(x_train, y_train) = 0.74651545f0\n",
      "loss(x_train, y_train) = 0.743393f0\n",
      "loss(x_train, y_train) = 0.7402994f0\n",
      "loss(x_train, y_train) = 0.7372332f0\n",
      "loss(x_train, y_train) = 0.7341946f0\n",
      "loss(x_train, y_train) = 0.7311832f0\n",
      "loss(x_train, y_train) = 0.7282071f0\n",
      "loss(x_train, y_train) = 0.7253213f0\n",
      "loss(x_train, y_train) = 0.72247016f0\n",
      "loss(x_train, y_train) = 0.71964014f0\n",
      "loss(x_train, y_train) = 0.7168463f0\n",
      "loss(x_train, y_train) = 0.7141116f0\n",
      "loss(x_train, y_train) = 0.7114021f0\n",
      "loss(x_train, y_train) = 0.70875823f0\n",
      "loss(x_train, y_train) = 0.70619166f0\n",
      "loss(x_train, y_train) = 0.70367277f0\n",
      "loss(x_train, y_train) = 0.70118284f0\n",
      "loss(x_train, y_train) = 0.698721f0\n",
      "loss(x_train, y_train) = 0.69628584f0\n",
      "loss(x_train, y_train) = 0.6938894f0\n",
      "loss(x_train, y_train) = 0.6915758f0\n",
      "loss(x_train, y_train) = 0.689295f0\n",
      "loss(x_train, y_train) = 0.68705606f0\n",
      "loss(x_train, y_train) = 0.68486816f0\n",
      "loss(x_train, y_train) = 0.68273646f0\n",
      "loss(x_train, y_train) = 0.68062216f0\n",
      "loss(x_train, y_train) = 0.67853355f0\n",
      "loss(x_train, y_train) = 0.6764738f0\n",
      "loss(x_train, y_train) = 0.67444617f0\n",
      "loss(x_train, y_train) = 0.6724414f0\n",
      "loss(x_train, y_train) = 0.6704685f0\n",
      "loss(x_train, y_train) = 0.6685093f0\n",
      "loss(x_train, y_train) = 0.6665751f0\n",
      "loss(x_train, y_train) = 0.66466963f0\n",
      "loss(x_train, y_train) = 0.6627887f0\n",
      "loss(x_train, y_train) = 0.6609265f0\n",
      "loss(x_train, y_train) = 0.65908927f0\n",
      "loss(x_train, y_train) = 0.6572669f0\n",
      "loss(x_train, y_train) = 0.6554639f0\n",
      "loss(x_train, y_train) = 0.6536749f0\n",
      "loss(x_train, y_train) = 0.6518986f0\n",
      "loss(x_train, y_train) = 0.65013814f0\n",
      "loss(x_train, y_train) = 0.6483969f0\n",
      "loss(x_train, y_train) = 0.6466739f0\n",
      "loss(x_train, y_train) = 0.64496213f0\n",
      "loss(x_train, y_train) = 0.6432602f0\n",
      "loss(x_train, y_train) = 0.64157605f0\n",
      "loss(x_train, y_train) = 0.6398908f0\n",
      "loss(x_train, y_train) = 0.6382184f0\n",
      "loss(x_train, y_train) = 0.6365556f0\n",
      "loss(x_train, y_train) = 0.634897f0\n",
      "loss(x_train, y_train) = 0.6332447f0\n",
      "loss(x_train, y_train) = 0.6315988f0\n",
      "loss(x_train, y_train) = 0.62996083f0\n",
      "loss(x_train, y_train) = 0.62833476f0\n",
      "loss(x_train, y_train) = 0.6267175f0\n",
      "loss(x_train, y_train) = 0.6251107f0\n",
      "loss(x_train, y_train) = 0.6235119f0\n",
      "loss(x_train, y_train) = 0.6219193f0\n",
      "loss(x_train, y_train) = 0.6203505f0\n",
      "loss(x_train, y_train) = 0.61879027f0\n",
      "loss(x_train, y_train) = 0.617215f0\n",
      "loss(x_train, y_train) = 0.6156543f0\n",
      "loss(x_train, y_train) = 0.6141096f0\n",
      "loss(x_train, y_train) = 0.6125725f0\n",
      "loss(x_train, y_train) = 0.61104345f0\n",
      "loss(x_train, y_train) = 0.60953516f0\n",
      "loss(x_train, y_train) = 0.60803956f0\n",
      "loss(x_train, y_train) = 0.6065541f0\n",
      "loss(x_train, y_train) = 0.60508966f0\n",
      "loss(x_train, y_train) = 0.60364723f0\n",
      "loss(x_train, y_train) = 0.6022141f0\n",
      "loss(x_train, y_train) = 0.60079074f0\n",
      "loss(x_train, y_train) = 0.5993779f0\n",
      "loss(x_train, y_train) = 0.5979711f0\n",
      "loss(x_train, y_train) = 0.59657127f0\n",
      "loss(x_train, y_train) = 0.59517974f0\n",
      "loss(x_train, y_train) = 0.59379935f0\n",
      "loss(x_train, y_train) = 0.5924275f0\n",
      "loss(x_train, y_train) = 0.59106445f0\n",
      "loss(x_train, y_train) = 0.5897101f0\n",
      "loss(x_train, y_train) = 0.58836436f0\n",
      "loss(x_train, y_train) = 0.5870269f0\n",
      "loss(x_train, y_train) = 0.5857041f0\n",
      "loss(x_train, y_train) = 0.584393f0\n",
      "loss(x_train, y_train) = 0.5830893f0\n",
      "loss(x_train, y_train) = 0.5817929f0\n",
      "loss(x_train, y_train) = 0.58050215f0\n",
      "loss(x_train, y_train) = 0.5792167f0\n",
      "loss(x_train, y_train) = 0.57793665f0\n",
      "loss(x_train, y_train) = 0.5766612f0\n",
      "loss(x_train, y_train) = 0.5753912f0\n",
      "loss(x_train, y_train) = 0.5741274f0\n",
      "loss(x_train, y_train) = 0.5728685f0\n",
      "loss(x_train, y_train) = 0.571617f0\n",
      "loss(x_train, y_train) = 0.5703738f0\n",
      "loss(x_train, y_train) = 0.5691406f0\n",
      "loss(x_train, y_train) = 0.5679128f0\n",
      "loss(x_train, y_train) = 0.5666903f0\n",
      "loss(x_train, y_train) = 0.56547326f0\n",
      "loss(x_train, y_train) = 0.56426173f0\n",
      "loss(x_train, y_train) = 0.56305563f0\n",
      "loss(x_train, y_train) = 0.5618551f0\n",
      "loss(x_train, y_train) = 0.56065977f0\n",
      "loss(x_train, y_train) = 0.5594704f0\n",
      "loss(x_train, y_train) = 0.5582864f0\n",
      "loss(x_train, y_train) = 0.55710787f0\n",
      "loss(x_train, y_train) = 0.5559343f0\n",
      "loss(x_train, y_train) = 0.5547667f0\n",
      "loss(x_train, y_train) = 0.5536044f0\n",
      "loss(x_train, y_train) = 0.55244744f0\n",
      "loss(x_train, y_train) = 0.5512959f0\n",
      "loss(x_train, y_train) = 0.55014974f0\n",
      "loss(x_train, y_train) = 0.54900885f0\n",
      "loss(x_train, y_train) = 0.5478751f0\n",
      "loss(x_train, y_train) = 0.5467478f0\n",
      "loss(x_train, y_train) = 0.5456251f0\n",
      "loss(x_train, y_train) = 0.54450697f0\n",
      "loss(x_train, y_train) = 0.5433934f0\n",
      "loss(x_train, y_train) = 0.5422843f0\n",
      "loss(x_train, y_train) = 0.5411808f0\n",
      "loss(x_train, y_train) = 0.54008216f0\n",
      "loss(x_train, y_train) = 0.5389884f0\n",
      "loss(x_train, y_train) = 0.53789926f0\n",
      "loss(x_train, y_train) = 0.53681505f0\n",
      "loss(x_train, y_train) = 0.53573555f0\n",
      "loss(x_train, y_train) = 0.53466034f0\n",
      "loss(x_train, y_train) = 0.5335878f0\n",
      "loss(x_train, y_train) = 0.53251624f0\n",
      "loss(x_train, y_train) = 0.5314345f0\n",
      "loss(x_train, y_train) = 0.5303575f0\n",
      "loss(x_train, y_train) = 0.5292859f0\n",
      "loss(x_train, y_train) = 0.52821916f0\n",
      "loss(x_train, y_train) = 0.5271525f0\n",
      "loss(x_train, y_train) = 0.5260867f0\n",
      "loss(x_train, y_train) = 0.52502906f0\n",
      "loss(x_train, y_train) = 0.52397275f0\n",
      "loss(x_train, y_train) = 0.5229166f0\n",
      "loss(x_train, y_train) = 0.52186304f0\n",
      "loss(x_train, y_train) = 0.52080876f0\n",
      "loss(x_train, y_train) = 0.5197534f0\n",
      "loss(x_train, y_train) = 0.5186961f0\n",
      "loss(x_train, y_train) = 0.5176439f0\n",
      "loss(x_train, y_train) = 0.5165926f0\n",
      "loss(x_train, y_train) = 0.5155463f0\n",
      "loss(x_train, y_train) = 0.51449597f0\n",
      "loss(x_train, y_train) = 0.5134447f0\n",
      "loss(x_train, y_train) = 0.51239455f0\n",
      "loss(x_train, y_train) = 0.51134574f0\n",
      "loss(x_train, y_train) = 0.5102978f0\n",
      "loss(x_train, y_train) = 0.50924945f0\n",
      "loss(x_train, y_train) = 0.5081993f0\n",
      "loss(x_train, y_train) = 0.5071576f0\n",
      "loss(x_train, y_train) = 0.50611985f0\n",
      "loss(x_train, y_train) = 0.5050741f0\n",
      "loss(x_train, y_train) = 0.5040277f0\n",
      "loss(x_train, y_train) = 0.5029806f0\n",
      "loss(x_train, y_train) = 0.501929f0\n",
      "loss(x_train, y_train) = 0.5008638f0\n",
      "loss(x_train, y_train) = 0.49976856f0\n",
      "loss(x_train, y_train) = 0.49861518f0\n",
      "loss(x_train, y_train) = 0.4974625f0\n",
      "loss(x_train, y_train) = 0.4964245f0\n",
      "loss(x_train, y_train) = 0.49537495f0\n",
      "loss(x_train, y_train) = 0.49429134f0\n",
      "loss(x_train, y_train) = 0.49318618f0\n",
      "loss(x_train, y_train) = 0.4920718f0\n",
      "loss(x_train, y_train) = 0.4909511f0\n",
      "loss(x_train, y_train) = 0.4898247f0\n",
      "loss(x_train, y_train) = 0.48869172f0\n",
      "loss(x_train, y_train) = 0.487543f0\n",
      "loss(x_train, y_train) = 0.48638344f0\n",
      "loss(x_train, y_train) = 0.4852157f0\n",
      "loss(x_train, y_train) = 0.48404637f0\n",
      "loss(x_train, y_train) = 0.48285925f0\n",
      "loss(x_train, y_train) = 0.4816434f0\n",
      "loss(x_train, y_train) = 0.48041657f0\n",
      "loss(x_train, y_train) = 0.47917515f0\n",
      "loss(x_train, y_train) = 0.47790822f0\n",
      "loss(x_train, y_train) = 0.47658542f0\n",
      "loss(x_train, y_train) = 0.47523296f0\n",
      "loss(x_train, y_train) = 0.4739608f0\n",
      "loss(x_train, y_train) = 0.47270066f0\n",
      "loss(x_train, y_train) = 0.47137952f0\n",
      "loss(x_train, y_train) = 0.4700188f0\n",
      "loss(x_train, y_train) = 0.46865505f0\n",
      "loss(x_train, y_train) = 0.46734577f0\n",
      "loss(x_train, y_train) = 0.4660312f0\n",
      "loss(x_train, y_train) = 0.4646906f0\n",
      "loss(x_train, y_train) = 0.46333f0\n",
      "loss(x_train, y_train) = 0.4619764f0\n",
      "loss(x_train, y_train) = 0.4606252f0\n",
      "loss(x_train, y_train) = 0.45927373f0\n",
      "loss(x_train, y_train) = 0.45791495f0\n",
      "loss(x_train, y_train) = 0.45654982f0\n",
      "loss(x_train, y_train) = 0.45517802f0\n",
      "loss(x_train, y_train) = 0.4538007f0\n",
      "loss(x_train, y_train) = 0.4524205f0\n",
      "loss(x_train, y_train) = 0.45103595f0\n",
      "loss(x_train, y_train) = 0.4496473f0\n",
      "loss(x_train, y_train) = 0.448255f0\n",
      "loss(x_train, y_train) = 0.4468589f0\n",
      "loss(x_train, y_train) = 0.44545728f0\n",
      "loss(x_train, y_train) = 0.4440501f0\n",
      "loss(x_train, y_train) = 0.4426466f0\n",
      "loss(x_train, y_train) = 0.44124144f0\n",
      "loss(x_train, y_train) = 0.43983158f0\n",
      "loss(x_train, y_train) = 0.43841606f0\n",
      "loss(x_train, y_train) = 0.4369907f0\n",
      "loss(x_train, y_train) = 0.435564f0\n",
      "loss(x_train, y_train) = 0.43413472f0\n",
      "loss(x_train, y_train) = 0.43270314f0\n",
      "loss(x_train, y_train) = 0.43126824f0\n",
      "loss(x_train, y_train) = 0.42983124f0\n",
      "loss(x_train, y_train) = 0.42839062f0\n",
      "loss(x_train, y_train) = 0.42694625f0\n",
      "loss(x_train, y_train) = 0.42549804f0\n",
      "loss(x_train, y_train) = 0.42404583f0\n",
      "loss(x_train, y_train) = 0.42258465f0\n",
      "loss(x_train, y_train) = 0.42111775f0\n",
      "loss(x_train, y_train) = 0.41964737f0\n",
      "loss(x_train, y_train) = 0.41817343f0\n",
      "loss(x_train, y_train) = 0.41670173f0\n",
      "loss(x_train, y_train) = 0.41522485f0\n",
      "loss(x_train, y_train) = 0.41374007f0\n",
      "loss(x_train, y_train) = 0.4122489f0\n",
      "loss(x_train, y_train) = 0.41075757f0\n",
      "loss(x_train, y_train) = 0.40927014f0\n",
      "loss(x_train, y_train) = 0.40778202f0\n",
      "loss(x_train, y_train) = 0.40628642f0\n",
      "loss(x_train, y_train) = 0.40479663f0\n",
      "loss(x_train, y_train) = 0.40329993f0\n",
      "loss(x_train, y_train) = 0.40179893f0\n",
      "loss(x_train, y_train) = 0.4002909f0\n",
      "loss(x_train, y_train) = 0.39878163f0\n",
      "loss(x_train, y_train) = 0.39726746f0\n",
      "loss(x_train, y_train) = 0.3957487f0\n",
      "loss(x_train, y_train) = 0.3942262f0\n",
      "loss(x_train, y_train) = 0.3927003f0\n",
      "loss(x_train, y_train) = 0.39117375f0\n",
      "loss(x_train, y_train) = 0.3896456f0\n",
      "loss(x_train, y_train) = 0.38811517f0\n",
      "loss(x_train, y_train) = 0.38658237f0\n",
      "loss(x_train, y_train) = 0.38504902f0\n",
      "loss(x_train, y_train) = 0.38352022f0\n",
      "loss(x_train, y_train) = 0.38199192f0\n",
      "loss(x_train, y_train) = 0.3804592f0\n",
      "loss(x_train, y_train) = 0.37892762f0\n",
      "loss(x_train, y_train) = 0.37739533f0\n",
      "loss(x_train, y_train) = 0.3758606f0\n",
      "loss(x_train, y_train) = 0.3743235f0\n",
      "loss(x_train, y_train) = 0.3727903f0\n",
      "loss(x_train, y_train) = 0.3712568f0\n",
      "loss(x_train, y_train) = 0.36972106f0\n",
      "loss(x_train, y_train) = 0.3681831f0\n",
      "loss(x_train, y_train) = 0.3666439f0\n",
      "loss(x_train, y_train) = 0.36510718f0\n",
      "loss(x_train, y_train) = 0.36357117f0\n",
      "loss(x_train, y_train) = 0.36203495f0\n",
      "loss(x_train, y_train) = 0.36049858f0\n",
      "loss(x_train, y_train) = 0.35896197f0\n",
      "loss(x_train, y_train) = 0.35742557f0\n",
      "loss(x_train, y_train) = 0.35589138f0\n",
      "loss(x_train, y_train) = 0.35435754f0\n",
      "loss(x_train, y_train) = 0.35282648f0\n",
      "loss(x_train, y_train) = 0.3512966f0\n",
      "loss(x_train, y_train) = 0.34976712f0\n",
      "loss(x_train, y_train) = 0.34823796f0\n",
      "loss(x_train, y_train) = 0.3467091f0\n",
      "loss(x_train, y_train) = 0.34518164f0\n",
      "loss(x_train, y_train) = 0.34365436f0\n",
      "loss(x_train, y_train) = 0.34212956f0\n",
      "loss(x_train, y_train) = 0.340606f0\n",
      "loss(x_train, y_train) = 0.33908227f0\n",
      "loss(x_train, y_train) = 0.33755755f0\n",
      "loss(x_train, y_train) = 0.33603543f0\n",
      "loss(x_train, y_train) = 0.33451506f0\n",
      "loss(x_train, y_train) = 0.33299366f0\n",
      "loss(x_train, y_train) = 0.33147186f0\n",
      "loss(x_train, y_train) = 0.32995278f0\n",
      "loss(x_train, y_train) = 0.3284325f0\n",
      "loss(x_train, y_train) = 0.32691112f0\n",
      "loss(x_train, y_train) = 0.32539263f0\n",
      "loss(x_train, y_train) = 0.32387492f0\n",
      "loss(x_train, y_train) = 0.32236615f0\n",
      "loss(x_train, y_train) = 0.32085103f0\n",
      "loss(x_train, y_train) = 0.31933925f0\n",
      "loss(x_train, y_train) = 0.31783164f0\n",
      "loss(x_train, y_train) = 0.31632638f0\n",
      "loss(x_train, y_train) = 0.3148241f0\n",
      "loss(x_train, y_train) = 0.31332836f0\n",
      "loss(x_train, y_train) = 0.3118332f0\n",
      "loss(x_train, y_train) = 0.31034043f0\n",
      "loss(x_train, y_train) = 0.30885074f0\n",
      "loss(x_train, y_train) = 0.30736375f0\n",
      "loss(x_train, y_train) = 0.30587816f0\n",
      "loss(x_train, y_train) = 0.30439714f0\n"
     ]
    }
   ],
   "source": [
    "for i in 1:400\n",
    "    Flux.train!(loss, parameters, data_train, opt, cb = throttle(evalcb, 10))\n",
    "end"
   ]
  },
  {
   "cell_type": "code",
   "execution_count": 67,
   "metadata": {},
   "outputs": [
    {
     "data": {
      "text/plain": [
       "3-element Vector{Bool}:\n",
       " 0\n",
       " 1\n",
       " 0"
      ]
     },
     "metadata": {},
     "output_type": "display_data"
    }
   ],
   "source": [
    "y = (y_test[:,25])"
   ]
  },
  {
   "cell_type": "code",
   "execution_count": 68,
   "metadata": {},
   "outputs": [
    {
     "data": {
      "text/plain": [
       "3-element Vector{Float32}:\n",
       " 0.008662353\n",
       " 0.5255514\n",
       " 0.46578628"
      ]
     },
     "metadata": {},
     "output_type": "display_data"
    }
   ],
   "source": [
    "pred = (model(x_test[:,25]))"
   ]
  },
  {
   "cell_type": "code",
   "execution_count": 69,
   "metadata": {},
   "outputs": [
    {
     "data": {
      "text/plain": [
       "acc (generic function with 1 method)"
      ]
     },
     "metadata": {},
     "output_type": "display_data"
    }
   ],
   "source": [
    "function loss_all(data_loader)\n",
    "    sum([loss(x, y) for (x,y) in data_loader]) / length(data_loader) \n",
    "end\n",
    "\n",
    "function acc(data_loader)\n",
    "    f(x) = Flux.onecold(cpu(x))\n",
    "    acces = [sum(f(model(x)) .== f(y)) / size(x,2)  for (x,y) in data_loader]\n",
    "    sum(acces) / length(data_loader)\n",
    "end"
   ]
  },
  {
   "cell_type": "code",
   "execution_count": 70,
   "metadata": {},
   "outputs": [
    {
     "name": "stdout",
     "output_type": "stream",
     "text": [
      "train_loss = loss_all(data_train) = 0.30439714f0\n",
      "test_loss = loss_all(data_test) = 0.29232547f0\n",
      "train_acc = acc(data_train) = 0.99\n",
      "test_acc = acc(data_test) = 0.98\n"
     ]
    },
    {
     "data": {
      "text/plain": [
       "0.98"
      ]
     },
     "metadata": {},
     "output_type": "display_data"
    }
   ],
   "source": [
    "data_test\n",
    "@show train_loss = loss_all(data_train)\n",
    "@show test_loss = loss_all(data_test)\n",
    "@show train_acc = acc(data_train)\n",
    "@show test_acc = acc(data_test)\n"
   ]
  }
 ],
 "metadata": {
  "kernelspec": {
   "display_name": "Julia 1.10.2",
   "language": "julia",
   "name": "julia-1.10"
  },
  "language_info": {
   "file_extension": ".jl",
   "mimetype": "application/julia",
   "name": "julia",
   "version": "1.10.2"
  }
 },
 "nbformat": 4,
 "nbformat_minor": 2
}
