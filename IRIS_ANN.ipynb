{
 "cells": [
  {
   "cell_type": "code",
   "execution_count": null,
   "metadata": {},
   "outputs": [],
   "source": [
    "using MLBase\n",
    "using Flux\n",
    "using Flux: onehotbatch, argmax, crossentropy, throttle\n",
    "using Plots\n",
    "using DecisionTree\n",
    "using Distances\n",
    "using LIBSVM\n",
    "using CSV\n",
    "using DataFrames\n",
    "using Random"
   ]
  },
  {
   "cell_type": "code",
   "execution_count": null,
   "metadata": {},
   "outputs": [],
   "source": [
    "iris = Iris()\n",
    "iris_m = Matrix(iris.dataframe)\n",
    "iris_m = iris_m[shuffle(1:end), :]\n",
    "train_test_ratio = .7\n",
    "idx = Int(floor(size(iris_m, 1) * train_test_ratio))\n",
    "data_train  = iris_m[1:idx,:]\n",
    "data_test = iris_m[idx+1:end, :]\n",
    "x_train = transpose(Float32.(data_train[:,1:4]))\n",
    "x_test = transpose(Float32.(data_test[:,1:4]))\n",
    "findaccuracy(predictedvals, groundtruthvals) = sum(predictedvals.==groundtruthvals)/length(groundtruthvals)\n",
    "iris_m"
   ]
  },
  {
   "cell_type": "code",
   "execution_count": null,
   "metadata": {},
   "outputs": [],
   "source": [
    "y_train = onehotbatch(data_train[:,5],unique(iris_m[:,5]))\n",
    "y_test = onehotbatch(data_test[:,5], unique(iris_m[:,5]))"
   ]
  },
  {
   "cell_type": "code",
   "execution_count": null,
   "metadata": {},
   "outputs": [],
   "source": [
    "model_DT = DecisionTreeClassifier(max_depth=4)\n",
    "DecisionTree.fit!(model_DT, x_train', data_train[:,5])\n",
    "pred_DT = DecisionTree.predict(model_DT,x_test')\n",
    "DT=findaccuracy(pred_DT,data_test[:,5])"
   ]
  },
  {
   "cell_type": "code",
   "execution_count": null,
   "metadata": {},
   "outputs": [],
   "source": [
    "data_train = [(x_train, y_train)]\n",
    "data_test = [(x_test, y_test)]\n",
    "#train_d1 = DataLoader((x_train, y_train), batchsize=batch_size, shuffle=true)"
   ]
  },
  {
   "cell_type": "code",
   "execution_count": null,
   "metadata": {},
   "outputs": [],
   "source": [
    "function get_model()\n",
    "    c = Chain(\n",
    "        Dense(4,8,relu),\n",
    "        Dense(8,8,relu),\n",
    "        Dense(8,3),\n",
    "        softmax\n",
    "    )\n",
    "end\n",
    "\n",
    "model = get_model()\n",
    "\n",
    "loss(x,y) = crossentropy(model(x),y)\n",
    "opt = ADAM()\n",
    "evalcb = () -> @show(loss(x_train, y_train))\n",
    "parameters = Flux.params(model)"
   ]
  },
  {
   "cell_type": "code",
   "execution_count": null,
   "metadata": {},
   "outputs": [],
   "source": [
    "for i in 1:600\n",
    "    Flux.train!(loss, parameters, data_train, opt, cb = throttle(evalcb, 10))\n",
    "end"
   ]
  },
  {
   "cell_type": "code",
   "execution_count": null,
   "metadata": {},
   "outputs": [],
   "source": [
    "y = (y_test[:,25])"
   ]
  },
  {
   "cell_type": "code",
   "execution_count": null,
   "metadata": {},
   "outputs": [],
   "source": [
    "\n",
    "pred = (model(x_test[:,25]))"
   ]
  },
  {
   "cell_type": "code",
   "execution_count": null,
   "metadata": {},
   "outputs": [],
   "source": [
    "function loss_all(data_loader)\n",
    "    sum([loss(x, y) for (x,y) in data_loader]) / length(data_loader) \n",
    "end\n",
    "\n",
    "function acc(data_loader)\n",
    "    f(x) = Flux.onecold(cpu(x))\n",
    "    acces = [sum(f(model(x)) .== f(y)) / size(x,2)  for (x,y) in data_loader]\n",
    "    sum(acces) / length(data_loader)\n",
    "end"
   ]
  },
  {
   "cell_type": "code",
   "execution_count": null,
   "metadata": {},
   "outputs": [],
   "source": [
    "data_test\n",
    "@show train_loss = loss_all(data_t)\n",
    "@show test_loss = loss_all(data_test)\n",
    "@show train_acc = acc(data_t)\n",
    "@show test_acc = acc(data_test)\n"
   ]
  }
 ],
 "metadata": {
  "kernelspec": {
   "display_name": "Julia 1.10.2",
   "language": "julia",
   "name": "julia-1.10"
  },
  "language_info": {
   "file_extension": ".jl",
   "mimetype": "application/julia",
   "name": "julia",
   "version": "1.10.2"
  }
 },
 "nbformat": 4,
 "nbformat_minor": 2
}
