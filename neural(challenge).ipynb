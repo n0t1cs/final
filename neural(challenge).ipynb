{
 "cells": [
  {
   "cell_type": "code",
   "execution_count": 1,
   "metadata": {},
   "outputs": [],
   "source": [
    "using Flux\n",
    "using CUDA\n",
    "using Flux: onehotbatch, argmax, crossentropy, throttle,onecold\n",
    "using Flux: Data.DataLoader\n",
    "using Base.Iterators: repeated\n",
    "using Images\n",
    "using Statistics\n",
    "using MLDatasets"
   ]
  },
  {
   "cell_type": "code",
   "execution_count": 2,
   "metadata": {},
   "outputs": [
    {
     "data": {
      "text/plain": [
       "(features = Float32[0.0 0.0 … 0.0 0.0; 0.0 0.0 … 0.0 0.0; … ; 0.0 0.0 … 0.0 0.0; 0.0 0.0 … 0.0 0.0;;; 0.0 0.0 … 0.0 0.0; 0.0 0.0 … 0.0 0.0; … ; 0.0 0.0 … 0.0 0.0; 0.0 0.0 … 0.0 0.0;;; 0.0 0.0 … 0.0 0.0; 0.0 0.0 … 0.0 0.0; … ; 0.0 0.0 … 0.0 0.0; 0.0 0.0 … 0.0 0.0;;; … ;;; 0.0 0.0 … 0.0 0.0; 0.0 0.0 … 0.0 0.0; … ; 0.0 0.0 … 0.0 0.0; 0.0 0.0 … 0.0 0.0;;; 0.0 0.0 … 0.0 0.0; 0.0 0.0 … 0.0 0.0; … ; 0.0 0.0 … 0.0 0.0; 0.0 0.0 … 0.0 0.0;;; 0.0 0.0 … 0.0 0.0; 0.0 0.0 … 0.0 0.0; … ; 0.0 0.0 … 0.0 0.0; 0.0 0.0 … 0.0 0.0], targets = [7, 2, 1, 0, 4, 1, 4, 9, 5, 9  …  7, 8, 9, 0, 1, 2, 3, 4, 5, 6])"
      ]
     },
     "metadata": {},
     "output_type": "display_data"
    }
   ],
   "source": [
    "# Carregar dados MNIST\n",
    "x_train, y_train = MNIST.(split=:train)[:]\n",
    "x_test, y_test = MNIST.(split=:test)[:]\n"
   ]
  },
  {
   "cell_type": "code",
   "execution_count": 3,
   "metadata": {},
   "outputs": [
    {
     "data": {
      "text/plain": [
       "(28, 28, 1, 60000)"
      ]
     },
     "metadata": {},
     "output_type": "display_data"
    }
   ],
   "source": [
    "x_train = Flux.unsqueeze(x_train, 3)\n",
    "x_test = Flux.unsqueeze(x_test, 3)\n",
    "\n",
    "size(x_train)"
   ]
  },
  {
   "cell_type": "code",
   "execution_count": 4,
   "metadata": {},
   "outputs": [
    {
     "data": {
      "text/plain": [
       "469-element DataLoader(::Tuple{Array{Float32, 4}, OneHotArrays.OneHotMatrix{UInt32, Vector{UInt32}}}, batchsize=128)\n",
       "  with first element:\n",
       "  (28×28×1×128 Array{Float32, 4}, 10×128 OneHotMatrix(::Vector{UInt32}) with eltype Bool,)"
      ]
     },
     "metadata": {},
     "output_type": "display_data"
    }
   ],
   "source": [
    "# Pré-processamento dos dados\n",
    "#x_train = reshape(Flux.Float32.(x_train), 28, 28, 1, 60000)\n",
    "#x_test = reshape(Flux.Float32.(x_test), 28, 28, 1, 10000)\n",
    "y_train = onehotbatch(y_train, 0:9) \n",
    "y_test = onehotbatch(y_test, 0:9)\n",
    "\n",
    "data_train = DataLoader((x_train, y_train), batchsize=128)"
   ]
  },
  {
   "cell_type": "code",
   "execution_count": 5,
   "metadata": {},
   "outputs": [
    {
     "data": {
      "image/png": "[encoded data removed]",
      "text/html": [
       "<img src=\"data:image/png;base64,iVBORw0KGgoAAAANSUhEUgAAAHAAAABwCAAAAADji6uXAAAABGdBTUEAALGPC/xhBQAAAAFzUkdCAK7OHOkAAAAgY0hSTQAAeiYAAICEAAD6AAAAgOgAAHUwAADqYAAAOpgAABdwnLpRPAAAAjFJREFUaAW9wUuopgMABuCnvFmwOLIxpZDSqCmXhJJcYnYsTqSoKeW2GLKamoUFi5mmzFmYaRaipkzJzm1FuS7U1OSSkGKhMCscptNIzWHxLb7+/u8/56g57/NEWZRFWZRFWZRFWZRFWZRFWZRFWZRFWZTFNroVy9hvFGVRFmWxjfZhGfuNoizKoiy2yaW4xbwoi7Ioiw3ciJ/wu//vZVxuXpRFWZTFAlfgA/yGfXjL1l2GGwy+MyvKoizKYoELsYQl3IcP8Zet2YWrDd41K8qiLMpigduMvsAZW7MDR43OmRVlURZlscDtRkdwPf7E81iz2CO41uAsDpsVZVEWZTHhAlxi1mMGN+EJ/GjeTuw1egmrZkVZlEVZTFjCA0ZfYgWP4058jkfxplnP4CqDz3DQvCiLsiiLTZzEbqzhDdyLV3AcP+Brg+uwbLSCNfOiLMqiLDaxijWDdbyPj7AHK3gIq3gQOwxO4j3ToizKoiwmPG10N3bhG6NT2IN7cD9O4GajF3HWtCiLsiiLCRcZrOMfPIsnjY7hYhzEcbyKGJzC2xaLsiiLspiwEz/jOZww71+8hivxFGJwDgewbrEoi7Ioiwl7cQRrFjuNA7gGd+BbnMY7NhZlURZlMeEwlvG6jf2C3bgLn2Ld5qIsyqIsJjyMM/jV1nxs66IsyqIsJvyNr/CH8y/KoizKYsIhfILvnX9RFmVRFhNesH2iLMqiLMqiLMqiLMqiLMqiLMqiLMqi7D+BbFgTx0l07wAAAABJRU5ErkJg\">"
      ],
      "text/plain": [
       "28×28 Array{Gray{Float32},2} with eltype Gray{Float32}:\n",
       " Gray{Float32}(0.0)  Gray{Float32}(0.0)  …  Gray{Float32}(0.0)\n",
       " Gray{Float32}(0.0)  Gray{Float32}(0.0)     Gray{Float32}(0.0)\n",
       " Gray{Float32}(0.0)  Gray{Float32}(0.0)     Gray{Float32}(0.0)\n",
       " Gray{Float32}(0.0)  Gray{Float32}(0.0)     Gray{Float32}(0.0)\n",
       " Gray{Float32}(0.0)  Gray{Float32}(0.0)     Gray{Float32}(0.0)\n",
       " Gray{Float32}(0.0)  Gray{Float32}(0.0)  …  Gray{Float32}(0.0)\n",
       " Gray{Float32}(0.0)  Gray{Float32}(0.0)     Gray{Float32}(0.0)\n",
       " Gray{Float32}(0.0)  Gray{Float32}(0.0)     Gray{Float32}(0.0)\n",
       " Gray{Float32}(0.0)  Gray{Float32}(0.0)     Gray{Float32}(0.0)\n",
       " Gray{Float32}(0.0)  Gray{Float32}(0.0)     Gray{Float32}(0.0)\n",
       " ⋮                                       ⋱  \n",
       " Gray{Float32}(0.0)  Gray{Float32}(0.0)     Gray{Float32}(0.0)\n",
       " Gray{Float32}(0.0)  Gray{Float32}(0.0)  …  Gray{Float32}(0.0)\n",
       " Gray{Float32}(0.0)  Gray{Float32}(0.0)     Gray{Float32}(0.0)\n",
       " Gray{Float32}(0.0)  Gray{Float32}(0.0)     Gray{Float32}(0.0)\n",
       " Gray{Float32}(0.0)  Gray{Float32}(0.0)     Gray{Float32}(0.0)\n",
       " Gray{Float32}(0.0)  Gray{Float32}(0.0)     Gray{Float32}(0.0)\n",
       " Gray{Float32}(0.0)  Gray{Float32}(0.0)  …  Gray{Float32}(0.0)\n",
       " Gray{Float32}(0.0)  Gray{Float32}(0.0)     Gray{Float32}(0.0)\n",
       " Gray{Float32}(0.0)  Gray{Float32}(0.0)     Gray{Float32}(0.0)"
      ]
     },
     "metadata": {},
     "output_type": "display_data"
    },
    {
     "data": {
      "image/png": "[encoded data removed]",
      "text/html": [
       "<img src=\"data:image/png;base64,iVBORw0KGgoAAAANSUhEUgAAAHAAAABwCAAAAADji6uXAAAABGdBTUEAALGPC/xhBQAAAAFzUkdCAK7OHOkAAAAgY0hSTQAAeiYAAICEAAD6AAAAgOgAAHUwAADqYAAAOpgAABdwnLpRPAAAAjdJREFUaAW9wTGIFQQABuDv1U/HRXiDQwbRVlt0nBQ1FY0aFTmEhLcGIQjFQcMVNzVUDhVEQQRFgQ0NSRIhCAeBQ2U1u4lwUEmQLjnca3jD496993wi/N8XZVEWZVEWZVEWZVEWZVEWZVEWZVEWZVEWZVEWZVEWZVEWZVEWd+A5LBsbYGjkIq7aL8qiLMriNi1hDaexinuMDTA08jNewo69oizKoixuwyN4H0cwwBB/4j+cxYs4hLvxOF7Flr2iLMqiLBa0ig0cMbKNs/gGO0ZO4UO8ZmQTW/aKsiiLsljAYZzHCq7jBWyb7nMcwyHTRVmURVnMcS8+xVEcwN9Yx7bZruFf3G+6KIuyKIs51nAcAwyxg1/M9yQeNvKB/aIsyqIsZngCXxn7AV9g2XwnjFzDJ/aLsiiLsphiFd/iASPbOI4bbu0xI2dw2X5RFmVRFhMO4zxWjH2Pp3HOfK/jQVzEKdNFWZRFWUw4iQMYGnsPmzhntlVs4goumC3KoizKYsI6hriOy1jDDj4z2xI2sIIf8bbZoizKoiwmfIkTuIl3cR9+w1+mW8ImXsbX+Nh8URZlURYTPsLzOIgz2MY/+MN0W9jAd1h3a1EWZVEWEy7hIJ7CT3gGz2LXXndh18hVHLOYKIuyKIsZfsVbeBQDHMWysV0McQGnLS7KoizKYoabeMfYGt7AQ0YG+B1v4obFRVmURVks6BJeceeiLMqiLMqiLMqiLMqiLMqiLMqiLMqiLMqiLMqi7H+VVliUOd0rNQAAAABJRU5ErkJg\">"
      ],
      "text/plain": [
       "28×28 Array{Gray{Float32},2} with eltype Gray{Float32}:\n",
       " Gray{Float32}(0.0)  Gray{Float32}(0.0)  …  Gray{Float32}(0.0)\n",
       " Gray{Float32}(0.0)  Gray{Float32}(0.0)     Gray{Float32}(0.0)\n",
       " Gray{Float32}(0.0)  Gray{Float32}(0.0)     Gray{Float32}(0.0)\n",
       " Gray{Float32}(0.0)  Gray{Float32}(0.0)     Gray{Float32}(0.0)\n",
       " Gray{Float32}(0.0)  Gray{Float32}(0.0)     Gray{Float32}(0.0)\n",
       " Gray{Float32}(0.0)  Gray{Float32}(0.0)  …  Gray{Float32}(0.0)\n",
       " Gray{Float32}(0.0)  Gray{Float32}(0.0)     Gray{Float32}(0.0)\n",
       " Gray{Float32}(0.0)  Gray{Float32}(0.0)     Gray{Float32}(0.0)\n",
       " Gray{Float32}(0.0)  Gray{Float32}(0.0)     Gray{Float32}(0.0)\n",
       " Gray{Float32}(0.0)  Gray{Float32}(0.0)     Gray{Float32}(0.0)\n",
       " ⋮                                       ⋱  \n",
       " Gray{Float32}(0.0)  Gray{Float32}(0.0)     Gray{Float32}(0.0)\n",
       " Gray{Float32}(0.0)  Gray{Float32}(0.0)  …  Gray{Float32}(0.0)\n",
       " Gray{Float32}(0.0)  Gray{Float32}(0.0)     Gray{Float32}(0.0)\n",
       " Gray{Float32}(0.0)  Gray{Float32}(0.0)     Gray{Float32}(0.0)\n",
       " Gray{Float32}(0.0)  Gray{Float32}(0.0)     Gray{Float32}(0.0)\n",
       " Gray{Float32}(0.0)  Gray{Float32}(0.0)     Gray{Float32}(0.0)\n",
       " Gray{Float32}(0.0)  Gray{Float32}(0.0)  …  Gray{Float32}(0.0)\n",
       " Gray{Float32}(0.0)  Gray{Float32}(0.0)     Gray{Float32}(0.0)\n",
       " Gray{Float32}(0.0)  Gray{Float32}(0.0)     Gray{Float32}(0.0)"
      ]
     },
     "metadata": {},
     "output_type": "display_data"
    },
    {
     "data": {
      "image/png": "[encoded data removed]",
      "text/html": [
       "<img src=\"data:image/png;base64,iVBORw0KGgoAAAANSUhEUgAAAHAAAABwCAAAAADji6uXAAAABGdBTUEAALGPC/xhBQAAAAFzUkdCAK7OHOkAAAAgY0hSTQAAeiYAAICEAAD6AAAAgOgAAHUwAADqYAAAOpgAABdwnLpRPAAAAatJREFUaAW9wT+rjQEAB+DnnH4pC0W6KSnDzXZNBgbULcluIhuDj2A1KR/AIN2BUZfJYDIhjORPKWKwKeWmFMMZbjfnyPvG73miLMqiLMqiLMqiLMqiLMqiLMriL63gNA7atIFLhomyKIuyWOAYTuA8pljCdlv9xHtc9feiLMqiLBbYjWU8stULPMUuXMdRw0RZlEVZLLCOdX922XBRFmVRFmVRFmVRFmVRFmVRFiMdwgo+GCbKoizKYqQpJrhnmCiLsiiLkVbxAy8NE2VRFmUx0j58w2PDRFmURVmMtA0vDRdlURZlMdJZ3DRclEVZlMUIOzDFM8NFWZRFWYxwCht4aLgoi7IoixHO4Qk+4yJWLXYfazZFWZRFWQywhGs4ie/4iD22muCnmQnOYM2mKIuyKIs/mGIvbmAnDmDJTLAd73AHd80sY4oj5ouyKIuymGMVh3EAF2z1BlfwHK/87pGZNfNFWZRFWcxxG8+wH7fwFg/wCV/xxXhRFmVRFnMcNzPBK/9WlEVZlMUcr/0/URZlURZlURZlURZlURZlURZlURZlURZlURZlUfYLhzMxhFRAPaoAAAAASUVORK5C\">"
      ],
      "text/plain": [
       "28×28 Array{Gray{Float32},2} with eltype Gray{Float32}:\n",
       " Gray{Float32}(0.0)  Gray{Float32}(0.0)  …  Gray{Float32}(0.0)\n",
       " Gray{Float32}(0.0)  Gray{Float32}(0.0)     Gray{Float32}(0.0)\n",
       " Gray{Float32}(0.0)  Gray{Float32}(0.0)     Gray{Float32}(0.0)\n",
       " Gray{Float32}(0.0)  Gray{Float32}(0.0)     Gray{Float32}(0.0)\n",
       " Gray{Float32}(0.0)  Gray{Float32}(0.0)     Gray{Float32}(0.0)\n",
       " Gray{Float32}(0.0)  Gray{Float32}(0.0)  …  Gray{Float32}(0.0)\n",
       " Gray{Float32}(0.0)  Gray{Float32}(0.0)     Gray{Float32}(0.0)\n",
       " Gray{Float32}(0.0)  Gray{Float32}(0.0)     Gray{Float32}(0.0)\n",
       " Gray{Float32}(0.0)  Gray{Float32}(0.0)     Gray{Float32}(0.0)\n",
       " Gray{Float32}(0.0)  Gray{Float32}(0.0)     Gray{Float32}(0.0)\n",
       " ⋮                                       ⋱  \n",
       " Gray{Float32}(0.0)  Gray{Float32}(0.0)     Gray{Float32}(0.0)\n",
       " Gray{Float32}(0.0)  Gray{Float32}(0.0)  …  Gray{Float32}(0.0)\n",
       " Gray{Float32}(0.0)  Gray{Float32}(0.0)     Gray{Float32}(0.0)\n",
       " Gray{Float32}(0.0)  Gray{Float32}(0.0)     Gray{Float32}(0.0)\n",
       " Gray{Float32}(0.0)  Gray{Float32}(0.0)     Gray{Float32}(0.0)\n",
       " Gray{Float32}(0.0)  Gray{Float32}(0.0)     Gray{Float32}(0.0)\n",
       " Gray{Float32}(0.0)  Gray{Float32}(0.0)  …  Gray{Float32}(0.0)\n",
       " Gray{Float32}(0.0)  Gray{Float32}(0.0)     Gray{Float32}(0.0)\n",
       " Gray{Float32}(0.0)  Gray{Float32}(0.0)     Gray{Float32}(0.0)"
      ]
     },
     "metadata": {},
     "output_type": "display_data"
    },
    {
     "data": {
      "image/png": "[encoded data removed]",
      "text/html": [
       "<img src=\"data:image/png;base64,iVBORw0KGgoAAAANSUhEUgAAAHAAAABwCAAAAADji6uXAAAABGdBTUEAALGPC/xhBQAAAAFzUkdCAK7OHOkAAAAgY0hSTQAAeiYAAICEAAD6AAAAgOgAAHUwAADqYAAAOpgAABdwnLpRPAAAAYVJREFUaAW9waFqVQEABuCP8YNRRUFM7glkDzDQoGIw+AYbdpugwWIQBiaRZcW+YBUUBRn4BrMIBsHbFEyGq+GEw/CM7W53//dFWZRFWZRFWZRFWZRFWZRFWZRFWZRFWZRFWZRFWZRFWZRFWZRFWZRFWZRFWZRFWZTFKVjDOYM9/DCKsiiLsliyl7iJSwa7uGYUZVEWZbEEa3iLC1jB3GjdflEWZVEWJ7CKh7iF85gb/MF306IsyqIsjukudjD3v208MC3KoizKYkGruI0t+33GNnYxc7Aoi7IoiwVcxA6u2u8NNvHb4aIsyqIsjmAdG7hn9AlfsYUvji7KoizK4hA38AqXMTd4hw3MLC7KoizK4gCbuIL7OGvwEy/wHL8cT5RFWZTFhMd4hDNGH/AU751MlEVZlMWEJ5gb7OEZXluOKIuyKIsJK0Z38M3yRFmURVlMuI6/BjPLFWVRFmUx4aPTE2VRFmVRFmVRFmVRFmVRFmVRFmVRFmVRFmVRFmVRFmVRFmX/AJkzLFRaagofAAAAAElFTkSuQmCC\">"
      ],
      "text/plain": [
       "28×28 Array{Gray{Float32},2} with eltype Gray{Float32}:\n",
       " Gray{Float32}(0.0)  Gray{Float32}(0.0)  …  Gray{Float32}(0.0)\n",
       " Gray{Float32}(0.0)  Gray{Float32}(0.0)     Gray{Float32}(0.0)\n",
       " Gray{Float32}(0.0)  Gray{Float32}(0.0)     Gray{Float32}(0.0)\n",
       " Gray{Float32}(0.0)  Gray{Float32}(0.0)     Gray{Float32}(0.0)\n",
       " Gray{Float32}(0.0)  Gray{Float32}(0.0)     Gray{Float32}(0.0)\n",
       " Gray{Float32}(0.0)  Gray{Float32}(0.0)  …  Gray{Float32}(0.0)\n",
       " Gray{Float32}(0.0)  Gray{Float32}(0.0)     Gray{Float32}(0.0)\n",
       " Gray{Float32}(0.0)  Gray{Float32}(0.0)     Gray{Float32}(0.0)\n",
       " Gray{Float32}(0.0)  Gray{Float32}(0.0)     Gray{Float32}(0.0)\n",
       " Gray{Float32}(0.0)  Gray{Float32}(0.0)     Gray{Float32}(0.0)\n",
       " ⋮                                       ⋱  \n",
       " Gray{Float32}(0.0)  Gray{Float32}(0.0)     Gray{Float32}(0.0)\n",
       " Gray{Float32}(0.0)  Gray{Float32}(0.0)  …  Gray{Float32}(0.0)\n",
       " Gray{Float32}(0.0)  Gray{Float32}(0.0)     Gray{Float32}(0.0)\n",
       " Gray{Float32}(0.0)  Gray{Float32}(0.0)     Gray{Float32}(0.0)\n",
       " Gray{Float32}(0.0)  Gray{Float32}(0.0)     Gray{Float32}(0.0)\n",
       " Gray{Float32}(0.0)  Gray{Float32}(0.0)     Gray{Float32}(0.0)\n",
       " Gray{Float32}(0.0)  Gray{Float32}(0.0)  …  Gray{Float32}(0.0)\n",
       " Gray{Float32}(0.0)  Gray{Float32}(0.0)     Gray{Float32}(0.0)\n",
       " Gray{Float32}(0.0)  Gray{Float32}(0.0)     Gray{Float32}(0.0)"
      ]
     },
     "metadata": {},
     "output_type": "display_data"
    },
    {
     "data": {
      "image/png": "[encoded data removed]",
      "text/html": [
       "<img src=\"data:image/png;base64,iVBORw0KGgoAAAANSUhEUgAAAHAAAABwCAAAAADji6uXAAAABGdBTUEAALGPC/xhBQAAAAFzUkdCAK7OHOkAAAAgY0hSTQAAeiYAAICEAAD6AAAAgOgAAHUwAADqYAAAOpgAABdwnLpRPAAAAfZJREFUaAW9wT+IlgUAB+Dn5EeZNIjcBS4N2labiJO2yLWJk+dgg2PBOQUhhQj+GWxqaclBUeEQEUSXw0XMRWgLXEJbwuUi4gMJHO5zeAcR4fX7VH7PE2VRFmVRFmVRFmVRFmVRFmVRFmVRFmVRFmVRFmVRFmVRFmVRFm9hOz7Ac/xnPlEWZVEWczqFb7GIDRzGQ7OLsiiLspjDWZzE1GAJd7BkdlEWZVEWMwiO4SSeYx0n8Bd2mE+URVmUxQz24iKmWMdhfIIpHptPlEVZlMUbrOBXg1/wvcFxg1vmE2VRFmUxYh9+xjbcxY/43+CQwSXzibIoi7IY8TUWcR8rmBh8hi/wFP/iAD7COr7CbvyGP7wuyqIsymLEASzgDCYGW3ENH2OCNXyJTa/agj9xHjcxMYiyKIuyGPE57uGBl5axB1PsxE5sYupVm9iFiziKI5ggyqIsyuINlvAhVvADPjWY4h+s4QnWvG43zuEgzmEVURZlURYjvsNPuI5lgwXcwFXcNm4DqziNb7CKKIuyKIsRTw2WvXQWF/DMbB7hOE4bRFmURVmM2I8Fg79xArfM7xkeGURZlEVZjLiCRfyOy9jw7qIsyqIsRjzEUe9XlEVZlEVZlEVZlEVZlEVZlEVZlEVZlEVZlEVZlEVZlEVZlEVZlEVZlL0A8DlMr68qyY4AAAAASUVORK5C\">"
      ],
      "text/plain": [
       "28×28 Array{Gray{Float32},2} with eltype Gray{Float32}:\n",
       " Gray{Float32}(0.0)  Gray{Float32}(0.0)  …  Gray{Float32}(0.0)\n",
       " Gray{Float32}(0.0)  Gray{Float32}(0.0)     Gray{Float32}(0.0)\n",
       " Gray{Float32}(0.0)  Gray{Float32}(0.0)     Gray{Float32}(0.0)\n",
       " Gray{Float32}(0.0)  Gray{Float32}(0.0)     Gray{Float32}(0.0)\n",
       " Gray{Float32}(0.0)  Gray{Float32}(0.0)     Gray{Float32}(0.0)\n",
       " Gray{Float32}(0.0)  Gray{Float32}(0.0)  …  Gray{Float32}(0.0)\n",
       " Gray{Float32}(0.0)  Gray{Float32}(0.0)     Gray{Float32}(0.0)\n",
       " Gray{Float32}(0.0)  Gray{Float32}(0.0)     Gray{Float32}(0.0)\n",
       " Gray{Float32}(0.0)  Gray{Float32}(0.0)     Gray{Float32}(0.0)\n",
       " Gray{Float32}(0.0)  Gray{Float32}(0.0)     Gray{Float32}(0.0)\n",
       " ⋮                                       ⋱  \n",
       " Gray{Float32}(0.0)  Gray{Float32}(0.0)     Gray{Float32}(0.0)\n",
       " Gray{Float32}(0.0)  Gray{Float32}(0.0)  …  Gray{Float32}(0.0)\n",
       " Gray{Float32}(0.0)  Gray{Float32}(0.0)     Gray{Float32}(0.0)\n",
       " Gray{Float32}(0.0)  Gray{Float32}(0.0)     Gray{Float32}(0.0)\n",
       " Gray{Float32}(0.0)  Gray{Float32}(0.0)     Gray{Float32}(0.0)\n",
       " Gray{Float32}(0.0)  Gray{Float32}(0.0)     Gray{Float32}(0.0)\n",
       " Gray{Float32}(0.0)  Gray{Float32}(0.0)  …  Gray{Float32}(0.0)\n",
       " Gray{Float32}(0.0)  Gray{Float32}(0.0)     Gray{Float32}(0.0)\n",
       " Gray{Float32}(0.0)  Gray{Float32}(0.0)     Gray{Float32}(0.0)"
      ]
     },
     "metadata": {},
     "output_type": "display_data"
    },
    {
     "data": {
      "image/png": "[encoded data removed]",
      "text/html": [
       "<img src=\"data:image/png;base64,iVBORw0KGgoAAAANSUhEUgAAAHAAAABwCAAAAADji6uXAAAABGdBTUEAALGPC/xhBQAAAAFzUkdCAK7OHOkAAAAgY0hSTQAAeiYAAICEAAD6AAAAgOgAAHUwAADqYAAAOpgAABdwnLpRPAAAAkxJREFUaAW9wT2I1gUAB+DH7qeJZUF4fYxCgdFJGATZ0BaJQV9QEbYIZbRIgRotojVIQkMIjTVI3FQ4yXGEQZANDY0FFkgHGS5KUuHBVcN/eJF7730Fj9/zRFmURVmURVmURVmURVmURVmURVmURVmURVmURVmUxTqZwQEcxR94CtesFmVRFmWxDjbiQxwymMULOG21KIuyKItbtAnHcQh/Ywa34zGctlqURVmUxS3YiD04jL/wFg7jUVw2XpRFWZTFFHfjRbyMN/G7kV34yuB9LOKYwWfGi7Ioi7KY4iO8YXAAxwy24EuDBczjCTyIs7hivCiLsiiLCXbgVSOLRh7BAziOU7iK/QbfYtl4URZlURYTvIOtBhfxi5Gj+AfncBWPY6/BGWuLsiiLsljDdrxu5AdcNjiIvbiE7zCLU9iMY7hobVEWZVEWaziCzQa/4j0jdxicxz04i134ACewYm1RFmVRFmNsxW5swAU8jSUjG3Ab9uAcduICPseKyaIsyqIsxrgTc1jCM1hyo//wL7ZgDst4G0umi7Ioi7IY41mDa9iEh7AD92E3drrRSXzj5kRZlEVZjHGvwcP4yXiXMINZzOEu/Gm6KIuyKIsxPsb9eAXbrHYe+/ESTuB5PIkF00VZlEVZjHEdB/Eptlnte6zgE/yGL7APC6aLsiiLspjgZ5Mt4wy+xnN4DfMmi7Ioi7K4RddxEovYh3mTRVmURVmsgytuXpRFWZTFOlnCu6aLsiiLslgHP2K7mxNlURZlURZlURZlURZlURZl/wMPxFpnSgBPUAAAAABJRU5ErkJg\">"
      ],
      "text/plain": [
       "28×28 Array{Gray{Float32},2} with eltype Gray{Float32}:\n",
       " Gray{Float32}(0.0)  Gray{Float32}(0.0)  …  Gray{Float32}(0.0)\n",
       " Gray{Float32}(0.0)  Gray{Float32}(0.0)     Gray{Float32}(0.0)\n",
       " Gray{Float32}(0.0)  Gray{Float32}(0.0)     Gray{Float32}(0.0)\n",
       " Gray{Float32}(0.0)  Gray{Float32}(0.0)     Gray{Float32}(0.0)\n",
       " Gray{Float32}(0.0)  Gray{Float32}(0.0)     Gray{Float32}(0.0)\n",
       " Gray{Float32}(0.0)  Gray{Float32}(0.0)  …  Gray{Float32}(0.0)\n",
       " Gray{Float32}(0.0)  Gray{Float32}(0.0)     Gray{Float32}(0.0)\n",
       " Gray{Float32}(0.0)  Gray{Float32}(0.0)     Gray{Float32}(0.0)\n",
       " Gray{Float32}(0.0)  Gray{Float32}(0.0)     Gray{Float32}(0.0)\n",
       " Gray{Float32}(0.0)  Gray{Float32}(0.0)     Gray{Float32}(0.0)\n",
       " ⋮                                       ⋱  \n",
       " Gray{Float32}(0.0)  Gray{Float32}(0.0)     Gray{Float32}(0.0)\n",
       " Gray{Float32}(0.0)  Gray{Float32}(0.0)  …  Gray{Float32}(0.0)\n",
       " Gray{Float32}(0.0)  Gray{Float32}(0.0)     Gray{Float32}(0.0)\n",
       " Gray{Float32}(0.0)  Gray{Float32}(0.0)     Gray{Float32}(0.0)\n",
       " Gray{Float32}(0.0)  Gray{Float32}(0.0)     Gray{Float32}(0.0)\n",
       " Gray{Float32}(0.0)  Gray{Float32}(0.0)     Gray{Float32}(0.0)\n",
       " Gray{Float32}(0.0)  Gray{Float32}(0.0)  …  Gray{Float32}(0.0)\n",
       " Gray{Float32}(0.0)  Gray{Float32}(0.0)     Gray{Float32}(0.0)\n",
       " Gray{Float32}(0.0)  Gray{Float32}(0.0)     Gray{Float32}(0.0)"
      ]
     },
     "metadata": {},
     "output_type": "display_data"
    },
    {
     "data": {
      "image/png": "[encoded data removed]",
      "text/html": [
       "<img src=\"data:image/png;base64,iVBORw0KGgoAAAANSUhEUgAAAHAAAABwCAAAAADji6uXAAAABGdBTUEAALGPC/xhBQAAAAFzUkdCAK7OHOkAAAAgY0hSTQAAeiYAAICEAAD6AAAAgOgAAHUwAADqYAAAOpgAABdwnLpRPAAAAVlJREFUaAW9wS2OHAQAx9GX5qeqOAEhYCgJQWE5ASCq0aD4OMImnKDZFaSqZ+EMsK2pGIPBYLBTxIpmhu1mk27+72UsYxnLWMYylrGMZSxjGctYxjKWsYxlLGMZy1jGMpaxjGUsYxnLWMYylrGMZSxjGctYxjKWsYxlLGMZy1hu8RH+xr/4AI/xl4eRsYxlLGee4Tv8jgO+wId4gV+9v4xlLGM58xOO+NapC1zgEY7eeoQjfsMrXLpbxjKWsZz5A0+82xFvvHXEG/zgxo/4E89xjYNTGctYxnLma3zq1Je4cD+f4GN8g5f43KmMZSxjOXPAwalX+MftvsJTt3vi/zKWsYzlHg64crsrfIbv3fgZR++WsYxlLA/gGr+4celuGctYxvLAXrtbxjKWsYxlLGMZy1jGMpaxjGUsYxnLWMYylrGMZSxjGctYxjKWsYxlLGMZy1jGMpax/wCwzCYtF7qiVAAAAABJRU5ErkJg\">"
      ],
      "text/plain": [
       "28×28 Array{Gray{Float32},2} with eltype Gray{Float32}:\n",
       " Gray{Float32}(0.0)  Gray{Float32}(0.0)  …  Gray{Float32}(0.0)\n",
       " Gray{Float32}(0.0)  Gray{Float32}(0.0)     Gray{Float32}(0.0)\n",
       " Gray{Float32}(0.0)  Gray{Float32}(0.0)     Gray{Float32}(0.0)\n",
       " Gray{Float32}(0.0)  Gray{Float32}(0.0)     Gray{Float32}(0.0)\n",
       " Gray{Float32}(0.0)  Gray{Float32}(0.0)     Gray{Float32}(0.0)\n",
       " Gray{Float32}(0.0)  Gray{Float32}(0.0)  …  Gray{Float32}(0.0)\n",
       " Gray{Float32}(0.0)  Gray{Float32}(0.0)     Gray{Float32}(0.0)\n",
       " Gray{Float32}(0.0)  Gray{Float32}(0.0)     Gray{Float32}(0.0)\n",
       " Gray{Float32}(0.0)  Gray{Float32}(0.0)     Gray{Float32}(0.0)\n",
       " Gray{Float32}(0.0)  Gray{Float32}(0.0)     Gray{Float32}(0.0)\n",
       " ⋮                                       ⋱  \n",
       " Gray{Float32}(0.0)  Gray{Float32}(0.0)     Gray{Float32}(0.0)\n",
       " Gray{Float32}(0.0)  Gray{Float32}(0.0)  …  Gray{Float32}(0.0)\n",
       " Gray{Float32}(0.0)  Gray{Float32}(0.0)     Gray{Float32}(0.0)\n",
       " Gray{Float32}(0.0)  Gray{Float32}(0.0)     Gray{Float32}(0.0)\n",
       " Gray{Float32}(0.0)  Gray{Float32}(0.0)     Gray{Float32}(0.0)\n",
       " Gray{Float32}(0.0)  Gray{Float32}(0.0)     Gray{Float32}(0.0)\n",
       " Gray{Float32}(0.0)  Gray{Float32}(0.0)  …  Gray{Float32}(0.0)\n",
       " Gray{Float32}(0.0)  Gray{Float32}(0.0)     Gray{Float32}(0.0)\n",
       " Gray{Float32}(0.0)  Gray{Float32}(0.0)     Gray{Float32}(0.0)"
      ]
     },
     "metadata": {},
     "output_type": "display_data"
    },
    {
     "data": {
      "image/png": "[encoded data removed]",
      "text/html": [
       "<img src=\"data:image/png;base64,iVBORw0KGgoAAAANSUhEUgAAAHAAAABwCAAAAADji6uXAAAABGdBTUEAALGPC/xhBQAAAAFzUkdCAK7OHOkAAAAgY0hSTQAAeiYAAICEAAD6AAAAgOgAAHUwAADqYAAAOpgAABdwnLpRPAAAAg5JREFUaAW9wTuLXWUABdA1YU+hhRDLFKIINmpjJ/gqjIFB7ISAb8VCMWglaiEWipUgCIlJ0N8wgxCQgArBRgSF2FpILELKCE5iZMbiKy6He655cNlrRVmURVmURVmURVmURVmURVmURVmURVmURVmURVmUxZo9ii8Mr+AXU1EWZVEWa7SJD/CA4S28iasWoizKoizW6CkctvASfsJJC1EWZVEWt+hBw3kL3+EevIs3DB/jpIUoi7IoixXux6c4ixP418Ld2MEGnsAfhl1cwF8WDpqKsiiLsljhZWxhC9u4YOEF3IUNPI9PrLZtKsqiLMpixn141mpPWvjW/ztrKsqiLMpixiYOGC7hmtWuWO137JiKsiiLspjxGA4ZvsZFN+5OHDb8jYumoizKoixmHMeeYcPUc3jEcMCyLTxkOGdZlEVZlMWMPewb9k29j33DnqlX8Rn2cQmnLYuyKIuyuAlHca+p1/ARjuBz3G74Bucti7Ioi7K4jodxB47gdWyaOoZjpn7A2+ZFWZRFWVzH4/gNB3Gb4TLO4WnLdnECV8yLsiiLsrgBh0y9h1PYsmwX31styqIsymLGDp4x71ecMZxx86IsyqIsZhzFl3jRsI0/8SGuYdeti7Ioi7KY8Q/ewVeGn3HVekRZlEVZrHAZP1q/KIuyKIuyKIuyKIuyKIuyKIuyKIuyKIuyKIuyKPsPKchNiIuxW+MAAAAASUVORK5C\">"
      ],
      "text/plain": [
       "28×28 Array{Gray{Float32},2} with eltype Gray{Float32}:\n",
       " Gray{Float32}(0.0)  Gray{Float32}(0.0)  …  Gray{Float32}(0.0)\n",
       " Gray{Float32}(0.0)  Gray{Float32}(0.0)     Gray{Float32}(0.0)\n",
       " Gray{Float32}(0.0)  Gray{Float32}(0.0)     Gray{Float32}(0.0)\n",
       " Gray{Float32}(0.0)  Gray{Float32}(0.0)     Gray{Float32}(0.0)\n",
       " Gray{Float32}(0.0)  Gray{Float32}(0.0)     Gray{Float32}(0.0)\n",
       " Gray{Float32}(0.0)  Gray{Float32}(0.0)  …  Gray{Float32}(0.0)\n",
       " Gray{Float32}(0.0)  Gray{Float32}(0.0)     Gray{Float32}(0.0)\n",
       " Gray{Float32}(0.0)  Gray{Float32}(0.0)     Gray{Float32}(0.0)\n",
       " Gray{Float32}(0.0)  Gray{Float32}(0.0)     Gray{Float32}(0.0)\n",
       " Gray{Float32}(0.0)  Gray{Float32}(0.0)     Gray{Float32}(0.0)\n",
       " ⋮                                       ⋱  \n",
       " Gray{Float32}(0.0)  Gray{Float32}(0.0)     Gray{Float32}(0.0)\n",
       " Gray{Float32}(0.0)  Gray{Float32}(0.0)  …  Gray{Float32}(0.0)\n",
       " Gray{Float32}(0.0)  Gray{Float32}(0.0)     Gray{Float32}(0.0)\n",
       " Gray{Float32}(0.0)  Gray{Float32}(0.0)     Gray{Float32}(0.0)\n",
       " Gray{Float32}(0.0)  Gray{Float32}(0.0)     Gray{Float32}(0.0)\n",
       " Gray{Float32}(0.0)  Gray{Float32}(0.0)     Gray{Float32}(0.0)\n",
       " Gray{Float32}(0.0)  Gray{Float32}(0.0)  …  Gray{Float32}(0.0)\n",
       " Gray{Float32}(0.0)  Gray{Float32}(0.0)     Gray{Float32}(0.0)\n",
       " Gray{Float32}(0.0)  Gray{Float32}(0.0)     Gray{Float32}(0.0)"
      ]
     },
     "metadata": {},
     "output_type": "display_data"
    },
    {
     "data": {
      "image/png": "[encoded data removed]",
      "text/html": [
       "<img src=\"data:image/png;base64,iVBORw0KGgoAAAANSUhEUgAAAHAAAABwCAAAAADji6uXAAAABGdBTUEAALGPC/xhBQAAAAFzUkdCAK7OHOkAAAAgY0hSTQAAeiYAAICEAAD6AAAAgOgAAHUwAADqYAAAOpgAABdwnLpRPAAAATtJREFUaAW9wbGqDgAAx9GjfpKFwXLLYLAw23gFySTPYJKH8DjKalEM3kBWpjsyiRTDHb5uPhnof07GMpaxjGUsYxnLWMYylrGMZSxjGctYxjKWsYxlLGMZy1jGMpaxjGUsYxnLWMYylrGMZSxjGctYxjKWsYxlLGMZy1iOuIirfvcDn/2bjGUsYzniLl773Re8dd5rfMIPvPR3GctYxnLEc5ziBBfw05mruO+8+w4+4JWDR3iDxw4ylrGM5Yh7OMGJM5dxBzcdXMMDZy7iAm7hOn7iCr7htvMylrGM5Q9OcergnT+7gUt4imf4jod4j6/Oy1jGMpb/4KMzTxy8cFzGMpaxjGUsYxnLWMYylrGMZSxjGctYxjKWsYxlLGMZy1jGMpaxjGUsYxnLWMYylrGMZSxjGctYxjKWsV8zZxw9AT6RmwAAAABJRU5ErkJg\">"
      ],
      "text/plain": [
       "28×28 Array{Gray{Float32},2} with eltype Gray{Float32}:\n",
       " Gray{Float32}(0.0)  Gray{Float32}(0.0)  …  Gray{Float32}(0.0)\n",
       " Gray{Float32}(0.0)  Gray{Float32}(0.0)     Gray{Float32}(0.0)\n",
       " Gray{Float32}(0.0)  Gray{Float32}(0.0)     Gray{Float32}(0.0)\n",
       " Gray{Float32}(0.0)  Gray{Float32}(0.0)     Gray{Float32}(0.0)\n",
       " Gray{Float32}(0.0)  Gray{Float32}(0.0)     Gray{Float32}(0.0)\n",
       " Gray{Float32}(0.0)  Gray{Float32}(0.0)  …  Gray{Float32}(0.0)\n",
       " Gray{Float32}(0.0)  Gray{Float32}(0.0)     Gray{Float32}(0.0)\n",
       " Gray{Float32}(0.0)  Gray{Float32}(0.0)     Gray{Float32}(0.0)\n",
       " Gray{Float32}(0.0)  Gray{Float32}(0.0)     Gray{Float32}(0.0)\n",
       " Gray{Float32}(0.0)  Gray{Float32}(0.0)     Gray{Float32}(0.0)\n",
       " ⋮                                       ⋱  \n",
       " Gray{Float32}(0.0)  Gray{Float32}(0.0)     Gray{Float32}(0.0)\n",
       " Gray{Float32}(0.0)  Gray{Float32}(0.0)  …  Gray{Float32}(0.0)\n",
       " Gray{Float32}(0.0)  Gray{Float32}(0.0)     Gray{Float32}(0.0)\n",
       " Gray{Float32}(0.0)  Gray{Float32}(0.0)     Gray{Float32}(0.0)\n",
       " Gray{Float32}(0.0)  Gray{Float32}(0.0)     Gray{Float32}(0.0)\n",
       " Gray{Float32}(0.0)  Gray{Float32}(0.0)     Gray{Float32}(0.0)\n",
       " Gray{Float32}(0.0)  Gray{Float32}(0.0)  …  Gray{Float32}(0.0)\n",
       " Gray{Float32}(0.0)  Gray{Float32}(0.0)     Gray{Float32}(0.0)\n",
       " Gray{Float32}(0.0)  Gray{Float32}(0.0)     Gray{Float32}(0.0)"
      ]
     },
     "metadata": {},
     "output_type": "display_data"
    },
    {
     "data": {
      "image/png": "[encoded data removed]",
      "text/html": [
       "<img src=\"data:image/png;base64,iVBORw0KGgoAAAANSUhEUgAAAHAAAABwCAAAAADji6uXAAAABGdBTUEAALGPC/xhBQAAAAFzUkdCAK7OHOkAAAAgY0hSTQAAeiYAAICEAAD6AAAAgOgAAHUwAADqYAAAOpgAABdwnLpRPAAAAf1JREFUaAW9wbGLFQQAB+Dv5CeIgoLeEqJOLqnQcIMZZPgHtJmdNEgoitEmCDoEikeLSjR1mIY4SQi1ikTg4Co0OPgWFQcFa2pR7hzeIHenvHd3+vu+KIuyKIuyKIuyKIuyKIuyKIuyKIuyKIuyKIuyKIuyKIuyKIuyWKVDOI4/8JPRoizKoixWKPga1/AIt4wnyqIsymKFvsEVvMQFPDaeKIuyKIsV2INfMY//cNX4oizKoiyWaRtuYQ3mcNhSO3Abv2HGQlEWZVEWy3AexzCJOTzEv97YhJM4ih04hxkLRVmURVmM8Dlm8T/24BV+xqeYwkV8j0l8hROYxw38aakoi7IoixHOYifm8QDf4W+cwRT2Yxa7sBHPMIsfvF2URVmUxQjT+BjrcB/PDV3El5jCXkMDHMAT7xZlURZlMcIL3LXUZmzFhKFp3DRalEVZlMUKnMJBfIR5Q/8YT5RFWZTFMmzAJRzBBJ5jEhPGF2VRFmUxpk9wGgcNXce3eIy/8MR4oizKoixGmMZZbMd6PMUF/GLoCwyML8qiLMriHX7EXuzGFszhHj6z0MDyRFmURVm8xWWcwFoMcAzr8LvVi7Ioi7JY5A724SXu4hTue3+iLMqiLBaZwHXcwU3vX5RFWZTFIgd8WFEWZVEWZVEWZVEWZVEWZVEWZVEWZVH2GmplSUYYEbu/AAAAAElFTkSuQmCC\">"
      ],
      "text/plain": [
       "28×28 Array{Gray{Float32},2} with eltype Gray{Float32}:\n",
       " Gray{Float32}(0.0)  Gray{Float32}(0.0)  …  Gray{Float32}(0.0)\n",
       " Gray{Float32}(0.0)  Gray{Float32}(0.0)     Gray{Float32}(0.0)\n",
       " Gray{Float32}(0.0)  Gray{Float32}(0.0)     Gray{Float32}(0.0)\n",
       " Gray{Float32}(0.0)  Gray{Float32}(0.0)     Gray{Float32}(0.0)\n",
       " Gray{Float32}(0.0)  Gray{Float32}(0.0)     Gray{Float32}(0.0)\n",
       " Gray{Float32}(0.0)  Gray{Float32}(0.0)  …  Gray{Float32}(0.0)\n",
       " Gray{Float32}(0.0)  Gray{Float32}(0.0)     Gray{Float32}(0.0)\n",
       " Gray{Float32}(0.0)  Gray{Float32}(0.0)     Gray{Float32}(0.0)\n",
       " Gray{Float32}(0.0)  Gray{Float32}(0.0)     Gray{Float32}(0.0)\n",
       " Gray{Float32}(0.0)  Gray{Float32}(0.0)     Gray{Float32}(0.0)\n",
       " ⋮                                       ⋱  \n",
       " Gray{Float32}(0.0)  Gray{Float32}(0.0)     Gray{Float32}(0.0)\n",
       " Gray{Float32}(0.0)  Gray{Float32}(0.0)  …  Gray{Float32}(0.0)\n",
       " Gray{Float32}(0.0)  Gray{Float32}(0.0)     Gray{Float32}(0.0)\n",
       " Gray{Float32}(0.0)  Gray{Float32}(0.0)     Gray{Float32}(0.0)\n",
       " Gray{Float32}(0.0)  Gray{Float32}(0.0)     Gray{Float32}(0.0)\n",
       " Gray{Float32}(0.0)  Gray{Float32}(0.0)     Gray{Float32}(0.0)\n",
       " Gray{Float32}(0.0)  Gray{Float32}(0.0)  …  Gray{Float32}(0.0)\n",
       " Gray{Float32}(0.0)  Gray{Float32}(0.0)     Gray{Float32}(0.0)\n",
       " Gray{Float32}(0.0)  Gray{Float32}(0.0)     Gray{Float32}(0.0)"
      ]
     },
     "metadata": {},
     "output_type": "display_data"
    },
    {
     "data": {
      "image/png": "[encoded data removed]",
      "text/html": [
       "<img src=\"data:image/png;base64,iVBORw0KGgoAAAANSUhEUgAAAHAAAABwCAAAAADji6uXAAAABGdBTUEAALGPC/xhBQAAAAFzUkdCAK7OHOkAAAAgY0hSTQAAeiYAAICEAAD6AAAAgOgAAHUwAADqYAAAOpgAABdwnLpRPAAAAelJREFUaAW9wT2IFgQABuAneFGRUwQnF384EfsxD5ocXHWxUThxTjdpKAIH0SQQLqGSA6ebRBDFoCV00EVxyMFJBB0sslHJKQ2x4Rs+vp87DI/3eaIsyqIsyqIsyqIsyqIsyqIsyqIsyqIsyqIsyqIsyqIsyqIsymIVbcaPWMQ900VZlEVZrKIlfI4duIevTIqyKIuyWEVXsAv7cAlr8cqoKIuyKItVdBnPcBuLmMGCUVEWZVEWUxzHVTw3aTc+xM+me4an2G66KIuyKIsxH2EBZ3AaF426jh34Bj+Z9AQPsR1zJkVZlEVZjDmEGczgexzHd7iGo9iJ4Bwe41ejPsN+A0dw1Kgoi7IoizFfGFqPvTiJO/gUMbAOm0zahQ2WF2VRFmUx5jfMGvgDLzGHG/jEyrbga0N/mxRlURZlMeYB5g1sNbTHpOADrMFZHMNGvMULHDApyqIsyuI9XMAsThn1CB+bLsqiLMpizA+4j2vYZGUbccqo8zhteVEWZVEWY17jFuZxEItYi29xF7/gS2wxMId/sYTr+Av/WF6URVmUxTJu4qahw4ZOGNqGN/jTu4myKIuyeE+/+3+iLMqiLMqiLMqiLMqiLMqiLMqiLMqiLMqiLMqiLMqiLMqiLMqiLMqiLMqiLMqi7D+Btz6ius/SkAAAAABJRU5ErkJg\">"
      ],
      "text/plain": [
       "28×28 Array{Gray{Float32},2} with eltype Gray{Float32}:\n",
       " Gray{Float32}(0.0)  Gray{Float32}(0.0)  …  Gray{Float32}(0.0)\n",
       " Gray{Float32}(0.0)  Gray{Float32}(0.0)     Gray{Float32}(0.0)\n",
       " Gray{Float32}(0.0)  Gray{Float32}(0.0)     Gray{Float32}(0.0)\n",
       " Gray{Float32}(0.0)  Gray{Float32}(0.0)     Gray{Float32}(0.0)\n",
       " Gray{Float32}(0.0)  Gray{Float32}(0.0)     Gray{Float32}(0.0)\n",
       " Gray{Float32}(0.0)  Gray{Float32}(0.0)  …  Gray{Float32}(0.0)\n",
       " Gray{Float32}(0.0)  Gray{Float32}(0.0)     Gray{Float32}(0.0)\n",
       " Gray{Float32}(0.0)  Gray{Float32}(0.0)     Gray{Float32}(0.0)\n",
       " Gray{Float32}(0.0)  Gray{Float32}(0.0)     Gray{Float32}(0.0)\n",
       " Gray{Float32}(0.0)  Gray{Float32}(0.0)     Gray{Float32}(0.0)\n",
       " ⋮                                       ⋱  \n",
       " Gray{Float32}(0.0)  Gray{Float32}(0.0)     Gray{Float32}(0.0)\n",
       " Gray{Float32}(0.0)  Gray{Float32}(0.0)  …  Gray{Float32}(0.0)\n",
       " Gray{Float32}(0.0)  Gray{Float32}(0.0)     Gray{Float32}(0.0)\n",
       " Gray{Float32}(0.0)  Gray{Float32}(0.0)     Gray{Float32}(0.0)\n",
       " Gray{Float32}(0.0)  Gray{Float32}(0.0)     Gray{Float32}(0.0)\n",
       " Gray{Float32}(0.0)  Gray{Float32}(0.0)     Gray{Float32}(0.0)\n",
       " Gray{Float32}(0.0)  Gray{Float32}(0.0)  …  Gray{Float32}(0.0)\n",
       " Gray{Float32}(0.0)  Gray{Float32}(0.0)     Gray{Float32}(0.0)\n",
       " Gray{Float32}(0.0)  Gray{Float32}(0.0)     Gray{Float32}(0.0)"
      ]
     },
     "metadata": {},
     "output_type": "display_data"
    },
    {
     "data": {
      "image/png": "[encoded data removed]",
      "text/html": [
       "<img src=\"data:image/png;base64,iVBORw0KGgoAAAANSUhEUgAAAHAAAABwCAAAAADji6uXAAAABGdBTUEAALGPC/xhBQAAAAFzUkdCAK7OHOkAAAAgY0hSTQAAeiYAAICEAAD6AAAAgOgAAHUwAADqYAAAOpgAABdwnLpRPAAAAaVJREFUaAW9wS1rlQEABtATnqKIMkwWTUaDoLgfsGK1LRjUZBHFMIZbnsE0F41TQYwq+AF28aMMDFr0ByyosKFhhpsMvrvjvjznRFmURVmURVmURVmURVmURVmURVmURVmURVmURVmURVmURVmUxQhO4CPWsWZYlEVZlMUInuEoVvAH9/xflEVZlMWMLuAklrCOs4ZFWZRFWczoE25hE+tYMCzKoizKYka/sWl6URZlURYHdBgrWMY7XMS2iS+YMyzKoizK4oCWsIQ9nMMNbOAmTuOFYVEWZVEWB3QZT/AYG1jFqolvuG1YlEVZlMWUjmMVN/EKu9jBUxzBGyzjq2FRFmVRFlNawzW8xa6J15jHHLbww/6iLMqiLKbwAFdxHy/967ODibIoi7KYwhls4w52zSbKoizKYh8LOI8P+GV2URZlURb7uGTirnFEWZRFWQw4hUUTW8YRZVEWZTHgEI7hJ3aMI8qiLMpiwCL28BDfjSPKoizKYsB1E++NJ8qiLMpiCo+MJ8qiLMpiwHPMY9d4oizKoiwGXDG+KIuyKIuyKIuyKPsLikI4RZBHOdkAAAAASUVORK5C\">"
      ],
      "text/plain": [
       "28×28 Array{Gray{Float32},2} with eltype Gray{Float32}:\n",
       " Gray{Float32}(0.0)  Gray{Float32}(0.0)  …  Gray{Float32}(0.0)\n",
       " Gray{Float32}(0.0)  Gray{Float32}(0.0)     Gray{Float32}(0.0)\n",
       " Gray{Float32}(0.0)  Gray{Float32}(0.0)     Gray{Float32}(0.0)\n",
       " Gray{Float32}(0.0)  Gray{Float32}(0.0)     Gray{Float32}(0.0)\n",
       " Gray{Float32}(0.0)  Gray{Float32}(0.0)     Gray{Float32}(0.0)\n",
       " Gray{Float32}(0.0)  Gray{Float32}(0.0)  …  Gray{Float32}(0.0)\n",
       " Gray{Float32}(0.0)  Gray{Float32}(0.0)     Gray{Float32}(0.0)\n",
       " Gray{Float32}(0.0)  Gray{Float32}(0.0)     Gray{Float32}(0.0)\n",
       " Gray{Float32}(0.0)  Gray{Float32}(0.0)     Gray{Float32}(0.0)\n",
       " Gray{Float32}(0.0)  Gray{Float32}(0.0)     Gray{Float32}(0.0)\n",
       " ⋮                                       ⋱  \n",
       " Gray{Float32}(0.0)  Gray{Float32}(0.0)     Gray{Float32}(0.0)\n",
       " Gray{Float32}(0.0)  Gray{Float32}(0.0)  …  Gray{Float32}(0.0)\n",
       " Gray{Float32}(0.0)  Gray{Float32}(0.0)     Gray{Float32}(0.0)\n",
       " Gray{Float32}(0.0)  Gray{Float32}(0.0)     Gray{Float32}(0.0)\n",
       " Gray{Float32}(0.0)  Gray{Float32}(0.0)     Gray{Float32}(0.0)\n",
       " Gray{Float32}(0.0)  Gray{Float32}(0.0)     Gray{Float32}(0.0)\n",
       " Gray{Float32}(0.0)  Gray{Float32}(0.0)  …  Gray{Float32}(0.0)\n",
       " Gray{Float32}(0.0)  Gray{Float32}(0.0)     Gray{Float32}(0.0)\n",
       " Gray{Float32}(0.0)  Gray{Float32}(0.0)     Gray{Float32}(0.0)"
      ]
     },
     "metadata": {},
     "output_type": "display_data"
    },
    {
     "data": {
      "image/png": "[encoded data removed]",
      "text/html": [
       "<img src=\"data:image/png;base64,iVBORw0KGgoAAAANSUhEUgAAAHAAAABwCAAAAADji6uXAAAABGdBTUEAALGPC/xhBQAAAAFzUkdCAK7OHOkAAAAgY0hSTQAAeiYAAICEAAD6AAAAgOgAAHUwAADqYAAAOpgAABdwnLpRPAAAAkZJREFUaAW9wU/EnwUAB/DPer9GNBVjdXmJmGjy2tqhw2IdijTaYUVJRcd2eE10qUun6TA7d01vUfqrYmWJGKup0faOeVlSokNGNb39OTyHx8/7vK/etb6fT5RFWZRFWZRFWZRFWZRFWZRFWUy4AS/gIO7HRddOlEVZlMWER3DEYCcuunaiLMqiLCb8brTs2oqyKIuymLDb/yfKoizKYsI2g5/xq825BcfwCU5gxawoi7IoiwmPGXyDH/x7t+Ij7MIhLOEpXDGKsiiLsphwEg/YvGewy+hRvIsloyiLsiiLCd9b314cwlv4wqzzuBm34SuD/VgyirIoi7LYhP34GHO4Aw+a9YbBMs5gARfMirIoi7LYwLLRVjyOOYO7MY9L1voNvxgcwMtGURZlURYb2Gl0HE8abcd2XLI5URZlURYTfjS4CdvwEJ6w1g7TrseNBufNirIoi7KY8A6exwLOYt7gD/yNrQYH8aG1nsOCaVEWZVEWE07jW9yJeaPD+A7vGzyNk3jVaAcWjT41K8qiLMpiHUt4yeAK7sE5/InT2IMteBavYxVzWMQ2g1UsmxVlURZlsY7X8DUO4BWcMXoPewz24gS+xF3Yb3QMZ8yKsiiLsljHClbwgbXexou4zmAf9hltwWW8aa0oi7Ioi6twFsewaNplPIxT1oqyKIuyuEpHsRv3Gq3iHA7jM9OiLMqiLK7ST7gPR3A7LuAUPrexKIuyKIv/4C8ctTlRFmVRFmVRFmVRFmVRFmVRFmVRFmVRFmVRFmVR9g/JVltSyUA+qAAAAABJRU5ErkJg\">"
      ],
      "text/plain": [
       "28×28 Array{Gray{Float32},2} with eltype Gray{Float32}:\n",
       " Gray{Float32}(0.0)  Gray{Float32}(0.0)  …  Gray{Float32}(0.0)\n",
       " Gray{Float32}(0.0)  Gray{Float32}(0.0)     Gray{Float32}(0.0)\n",
       " Gray{Float32}(0.0)  Gray{Float32}(0.0)     Gray{Float32}(0.0)\n",
       " Gray{Float32}(0.0)  Gray{Float32}(0.0)     Gray{Float32}(0.0)\n",
       " Gray{Float32}(0.0)  Gray{Float32}(0.0)     Gray{Float32}(0.0)\n",
       " Gray{Float32}(0.0)  Gray{Float32}(0.0)  …  Gray{Float32}(0.0)\n",
       " Gray{Float32}(0.0)  Gray{Float32}(0.0)     Gray{Float32}(0.0)\n",
       " Gray{Float32}(0.0)  Gray{Float32}(0.0)     Gray{Float32}(0.0)\n",
       " Gray{Float32}(0.0)  Gray{Float32}(0.0)     Gray{Float32}(0.0)\n",
       " Gray{Float32}(0.0)  Gray{Float32}(0.0)     Gray{Float32}(0.0)\n",
       " ⋮                                       ⋱  \n",
       " Gray{Float32}(0.0)  Gray{Float32}(0.0)     Gray{Float32}(0.0)\n",
       " Gray{Float32}(0.0)  Gray{Float32}(0.0)  …  Gray{Float32}(0.0)\n",
       " Gray{Float32}(0.0)  Gray{Float32}(0.0)     Gray{Float32}(0.0)\n",
       " Gray{Float32}(0.0)  Gray{Float32}(0.0)     Gray{Float32}(0.0)\n",
       " Gray{Float32}(0.0)  Gray{Float32}(0.0)     Gray{Float32}(0.0)\n",
       " Gray{Float32}(0.0)  Gray{Float32}(0.0)     Gray{Float32}(0.0)\n",
       " Gray{Float32}(0.0)  Gray{Float32}(0.0)  …  Gray{Float32}(0.0)\n",
       " Gray{Float32}(0.0)  Gray{Float32}(0.0)     Gray{Float32}(0.0)\n",
       " Gray{Float32}(0.0)  Gray{Float32}(0.0)     Gray{Float32}(0.0)"
      ]
     },
     "metadata": {},
     "output_type": "display_data"
    },
    {
     "data": {
      "image/png": "[encoded data removed]",
      "text/html": [
       "<img src=\"data:image/png;base64,iVBORw0KGgoAAAANSUhEUgAAAHAAAABwCAAAAADji6uXAAAABGdBTUEAALGPC/xhBQAAAAFzUkdCAK7OHOkAAAAgY0hSTQAAeiYAAICEAAD6AAAAgOgAAHUwAADqYAAAOpgAABdwnLpRPAAAAiZJREFUaAW9wTFonAUABtB3+g0iVIsOXdTqYNxqwCEWGnTuYMBFHXRxcREhaQdHO1csuIibSKdIoWKLIFSi4qQ46OagLQkuLSJBBcGcwx840+bSuwzfe1EWZVEWZVEWZVEWZVEWZVEWZVEWZVEWZVEWZVEWZVEWZVEWZVEWZVEWZXFIR3AKJ3DU4FP8g+9NF2VRFmUxh6P4F8/hCbxnMMIYZ/EXXsEV+4uyKIuymNEKlvEMlu11GWOs4H6s4or9RVmURVnM4FssGdyDHfyGD3HOxEl8g+dNF2VRFmVxgAW8ikWMDXZwAx/jnMGiwdMYO1iURVmUxT4W8DAu4jH8inX8jq9wCz/jGC7hcezgiLuLsiiLsrjNMZzHaYxwFav4G5smFnAeSxhhbOIj00VZlEVZ3OYSlky8gS17LeIsThus4QReM/jRdFEWZVEW//M+njXxIrbstYpTWME2VrCBGxhhGz+YLsqiLMpi1wJewhhvYxOX3WmMF3AT69jAAu7DTaxjw3RRFmVRFrs+x0P4Cd/hS3d6C28afIE1nMRF/IJ3cNXBoizKoix23YvP8Dpu2d+jOI4/8S6exNcYYRlb7i7KoizKYtdxs9vEA/jAYA1/mE2URVmUxRzOYA1P4Rq2cQEXzC7KoizKYk6P4BM8iGs4Yz5RFmVRFnPawssG180vyqIsyuIQrju8KIuyKIuyKIuyKIuyKIuyKIuyKIuyKIuyKIuyKPsPaPdYWdeO5uQAAAAASUVORK5C\">"
      ],
      "text/plain": [
       "28×28 Array{Gray{Float32},2} with eltype Gray{Float32}:\n",
       " Gray{Float32}(0.0)  Gray{Float32}(0.0)  …  Gray{Float32}(0.0)\n",
       " Gray{Float32}(0.0)  Gray{Float32}(0.0)     Gray{Float32}(0.0)\n",
       " Gray{Float32}(0.0)  Gray{Float32}(0.0)     Gray{Float32}(0.0)\n",
       " Gray{Float32}(0.0)  Gray{Float32}(0.0)     Gray{Float32}(0.0)\n",
       " Gray{Float32}(0.0)  Gray{Float32}(0.0)     Gray{Float32}(0.0)\n",
       " Gray{Float32}(0.0)  Gray{Float32}(0.0)  …  Gray{Float32}(0.0)\n",
       " Gray{Float32}(0.0)  Gray{Float32}(0.0)     Gray{Float32}(0.0)\n",
       " Gray{Float32}(0.0)  Gray{Float32}(0.0)     Gray{Float32}(0.0)\n",
       " Gray{Float32}(0.0)  Gray{Float32}(0.0)     Gray{Float32}(0.0)\n",
       " Gray{Float32}(0.0)  Gray{Float32}(0.0)     Gray{Float32}(0.0)\n",
       " ⋮                                       ⋱  \n",
       " Gray{Float32}(0.0)  Gray{Float32}(0.0)     Gray{Float32}(0.0)\n",
       " Gray{Float32}(0.0)  Gray{Float32}(0.0)  …  Gray{Float32}(0.0)\n",
       " Gray{Float32}(0.0)  Gray{Float32}(0.0)     Gray{Float32}(0.0)\n",
       " Gray{Float32}(0.0)  Gray{Float32}(0.0)     Gray{Float32}(0.0)\n",
       " Gray{Float32}(0.0)  Gray{Float32}(0.0)     Gray{Float32}(0.0)\n",
       " Gray{Float32}(0.0)  Gray{Float32}(0.0)     Gray{Float32}(0.0)\n",
       " Gray{Float32}(0.0)  Gray{Float32}(0.0)  …  Gray{Float32}(0.0)\n",
       " Gray{Float32}(0.0)  Gray{Float32}(0.0)     Gray{Float32}(0.0)\n",
       " Gray{Float32}(0.0)  Gray{Float32}(0.0)     Gray{Float32}(0.0)"
      ]
     },
     "metadata": {},
     "output_type": "display_data"
    },
    {
     "data": {
      "image/png": "[encoded data removed]",
      "text/html": [
       "<img src=\"data:image/png;base64,iVBORw0KGgoAAAANSUhEUgAAAHAAAABwCAAAAADji6uXAAAABGdBTUEAALGPC/xhBQAAAAFzUkdCAK7OHOkAAAAgY0hSTQAAeiYAAICEAAD6AAAAgOgAAHUwAADqYAAAOpgAABdwnLpRPAAAATVJREFUaAW9wbGqDgAAx9Fz6xepOxs8gWQzKYNFyWD0Kp7AE8ig7MqjmGQwKGVQ8gKU5Rq+4Us+dZX+52QsYxnLWMYylrGMZSxjGctYxjKWsYxlLGMZy1jGMpaxjGUsYxnLWMYylrGMZSxjGctYxjKWsYxlLGMZy1hOOMM1fPf/ZSxjGcsJr3EPH/ECb/2bb/jptIxlLGM54RHOcQP3HZzhwtEZLpz2AT/wDs/w2VHGMpaxnHALD3EdN/EEV/zuwt/dcnAHt3HXUcYylrGc8AWvHD3FY1zxp/f45OAqHjl4gHO88buMZSxjuYSveOlynjt47rSMZSxjGctYxjKWsYxlLGMZy1jGMpaxjGUsYxnLWMYylrGMZSxjGctYxjKWsYxlLGMZy1jGMpaxjGUsYxnLWMYy9gtn2RkrBi3H7AAAAABJRU5ErkJg\">"
      ],
      "text/plain": [
       "28×28 Array{Gray{Float32},2} with eltype Gray{Float32}:\n",
       " Gray{Float32}(0.0)  Gray{Float32}(0.0)  …  Gray{Float32}(0.0)\n",
       " Gray{Float32}(0.0)  Gray{Float32}(0.0)     Gray{Float32}(0.0)\n",
       " Gray{Float32}(0.0)  Gray{Float32}(0.0)     Gray{Float32}(0.0)\n",
       " Gray{Float32}(0.0)  Gray{Float32}(0.0)     Gray{Float32}(0.0)\n",
       " Gray{Float32}(0.0)  Gray{Float32}(0.0)     Gray{Float32}(0.0)\n",
       " Gray{Float32}(0.0)  Gray{Float32}(0.0)  …  Gray{Float32}(0.0)\n",
       " Gray{Float32}(0.0)  Gray{Float32}(0.0)     Gray{Float32}(0.0)\n",
       " Gray{Float32}(0.0)  Gray{Float32}(0.0)     Gray{Float32}(0.0)\n",
       " Gray{Float32}(0.0)  Gray{Float32}(0.0)     Gray{Float32}(0.0)\n",
       " Gray{Float32}(0.0)  Gray{Float32}(0.0)     Gray{Float32}(0.0)\n",
       " ⋮                                       ⋱  \n",
       " Gray{Float32}(0.0)  Gray{Float32}(0.0)     Gray{Float32}(0.0)\n",
       " Gray{Float32}(0.0)  Gray{Float32}(0.0)  …  Gray{Float32}(0.0)\n",
       " Gray{Float32}(0.0)  Gray{Float32}(0.0)     Gray{Float32}(0.0)\n",
       " Gray{Float32}(0.0)  Gray{Float32}(0.0)     Gray{Float32}(0.0)\n",
       " Gray{Float32}(0.0)  Gray{Float32}(0.0)     Gray{Float32}(0.0)\n",
       " Gray{Float32}(0.0)  Gray{Float32}(0.0)     Gray{Float32}(0.0)\n",
       " Gray{Float32}(0.0)  Gray{Float32}(0.0)  …  Gray{Float32}(0.0)\n",
       " Gray{Float32}(0.0)  Gray{Float32}(0.0)     Gray{Float32}(0.0)\n",
       " Gray{Float32}(0.0)  Gray{Float32}(0.0)     Gray{Float32}(0.0)"
      ]
     },
     "metadata": {},
     "output_type": "display_data"
    },
    {
     "data": {
      "image/png": "[encoded data removed]",
      "text/html": [
       "<img src=\"data:image/png;base64,iVBORw0KGgoAAAANSUhEUgAAAHAAAABwCAAAAADji6uXAAAABGdBTUEAALGPC/xhBQAAAAFzUkdCAK7OHOkAAAAgY0hSTQAAeiYAAICEAAD6AAAAgOgAAHUwAADqYAAAOpgAABdwnLpRPAAAAe5JREFUaAW9wTGIlgUABuBHeXFQKgSX4lwCwdRFJ6dcTLjBQZCEzOYmJQ9yUhDBvXDxHJzESdDFQXBwUGhwVLoiyKYbbHAM4q7hGz6k8/v/v+R9niiLsiiLsiiLsiiLsiiLsiiLsiiLsiiLsiiLsiiLsiiLsiiLsljQCaxgFfcsLsqiLMpiTsfxPY5iJ/bgnsVFWZRFWczhY9zCXqM35nMQ3+ARHiPKoizKYg53sdfoGb4ybT8u40MsYwVBlEVZlMUcPjX6A1exbmsfYAkXccbgFS4aRFmURVks4C+cw1Nb24lbOG20ih+wZhBlURZlMcMxfGRwCU9tbQe+xmmDX3ADj7FmFGVRFmUxwyHsMvjJ1q7jML4w+A3LeOXfoizKoixmOIZtOIA1bzuJ+9iODYPv8KN3i7Ioi7KYsIJTeI7XRrvxLa5gExvYxF3cMC3KoizKYsIObMMR7MGfBsu45m0XcAcbpkVZlEVZTPjM6BNcwBI+N/gb5/EEv2LDbFEWZVEWE85i0+A2loxe4CZWLSbKoizKYk5LRs/wJdYtLsqiLMpiws/Yh+0Gv+MBHmLdfxNlURZlMeEgXmIXXuIcXvt/oizKoixmOOD9irIoi7Ioi7Ioi7Ioi7Ioi7Ioi7Ioi7Ioi7Ioi7Ioi7Ioi7J/ANUvQn40L2egAAAAAElFTkSuQmCC\">"
      ],
      "text/plain": [
       "28×28 Array{Gray{Float32},2} with eltype Gray{Float32}:\n",
       " Gray{Float32}(0.0)  Gray{Float32}(0.0)  …  Gray{Float32}(0.0)\n",
       " Gray{Float32}(0.0)  Gray{Float32}(0.0)     Gray{Float32}(0.0)\n",
       " Gray{Float32}(0.0)  Gray{Float32}(0.0)     Gray{Float32}(0.0)\n",
       " Gray{Float32}(0.0)  Gray{Float32}(0.0)     Gray{Float32}(0.0)\n",
       " Gray{Float32}(0.0)  Gray{Float32}(0.0)     Gray{Float32}(0.0)\n",
       " Gray{Float32}(0.0)  Gray{Float32}(0.0)  …  Gray{Float32}(0.0)\n",
       " Gray{Float32}(0.0)  Gray{Float32}(0.0)     Gray{Float32}(0.0)\n",
       " Gray{Float32}(0.0)  Gray{Float32}(0.0)     Gray{Float32}(0.0)\n",
       " Gray{Float32}(0.0)  Gray{Float32}(0.0)     Gray{Float32}(0.0)\n",
       " Gray{Float32}(0.0)  Gray{Float32}(0.0)     Gray{Float32}(0.0)\n",
       " ⋮                                       ⋱  \n",
       " Gray{Float32}(0.0)  Gray{Float32}(0.0)     Gray{Float32}(0.0)\n",
       " Gray{Float32}(0.0)  Gray{Float32}(0.0)  …  Gray{Float32}(0.0)\n",
       " Gray{Float32}(0.0)  Gray{Float32}(0.0)     Gray{Float32}(0.0)\n",
       " Gray{Float32}(0.0)  Gray{Float32}(0.0)     Gray{Float32}(0.0)\n",
       " Gray{Float32}(0.0)  Gray{Float32}(0.0)     Gray{Float32}(0.0)\n",
       " Gray{Float32}(0.0)  Gray{Float32}(0.0)     Gray{Float32}(0.0)\n",
       " Gray{Float32}(0.0)  Gray{Float32}(0.0)  …  Gray{Float32}(0.0)\n",
       " Gray{Float32}(0.0)  Gray{Float32}(0.0)     Gray{Float32}(0.0)\n",
       " Gray{Float32}(0.0)  Gray{Float32}(0.0)     Gray{Float32}(0.0)"
      ]
     },
     "metadata": {},
     "output_type": "display_data"
    },
    {
     "data": {
      "image/png": "[encoded data removed]",
      "text/html": [
       "<img src=\"data:image/png;base64,iVBORw0KGgoAAAANSUhEUgAAAHAAAABwCAAAAADji6uXAAAABGdBTUEAALGPC/xhBQAAAAFzUkdCAK7OHOkAAAAgY0hSTQAAeiYAAICEAAD6AAAAgOgAAHUwAADqYAAAOpgAABdwnLpRPAAAAh5JREFUaAW9wT+I1gUABuCHeMO7paCkFgWH8o5rMGuISBAEK4ibBJFAsLWxP0OgETZVS+Mh4izaUIFwU6sVpIgQGnJn0BQUpkd0GNTwDRL3++7u+5L3eaIsyqIsyqIsyqIsyqIsyqIsyqIsyqIsyqIsyqIsyqIsyqIsyuIhmMWXeBX/4CfMGxZlURZl8RB8hMNYxR08j49xykZRFmVRFls4jEfxDf6y0SwWsY4juI4zeA+nbBRlURZlMcZOLGM/bmG/YU9hHpdw1ciTeMSwKIuyKIsxzmIPLuA8/jTsRSOrHriG1w2LsiiLshhwHIv4FB/Y3EtGvvLAivGiLMqiLAa8hjv4zNYOGVk3MoP38bVhURZlURYD9uEyfrc9d3EbwUXM4V3DoizKoiwGzOFnW9uBWazhF3yCN/Adlg2LsiiLshjjIOZxw3i7sIC/cQO7sI63jRdlURZlMeBbHMD3+BxfYB0ruI8d2INXjAR78SuO4arxoizKoiwGLOIy9uIkThr5Efcxgzn/tYKjuGJzURZlURYD/sACPsRbmMHTWDDsLN7Bmq1FWZRFWWziNE7jMbyJZ43cwzKW8ByWsGZ7oizKoiy24S6WbPQDHscV2xdlURZl8T+8YHJRFmVRFlPaiSdwzmSiLMqiLKa0D7txyWSiLMqiLKb0Mu7hN5OJsiiLspjSRTyDVZOJsiiLspjSTZwwuSiLsiiLsiiLsij7F0hxUPjuSzBHAAAAAElFTkSuQmCC\">"
      ],
      "text/plain": [
       "28×28 Array{Gray{Float32},2} with eltype Gray{Float32}:\n",
       " Gray{Float32}(0.0)  Gray{Float32}(0.0)  …  Gray{Float32}(0.0)\n",
       " Gray{Float32}(0.0)  Gray{Float32}(0.0)     Gray{Float32}(0.0)\n",
       " Gray{Float32}(0.0)  Gray{Float32}(0.0)     Gray{Float32}(0.0)\n",
       " Gray{Float32}(0.0)  Gray{Float32}(0.0)     Gray{Float32}(0.0)\n",
       " Gray{Float32}(0.0)  Gray{Float32}(0.0)     Gray{Float32}(0.0)\n",
       " Gray{Float32}(0.0)  Gray{Float32}(0.0)  …  Gray{Float32}(0.0)\n",
       " Gray{Float32}(0.0)  Gray{Float32}(0.0)     Gray{Float32}(0.0)\n",
       " Gray{Float32}(0.0)  Gray{Float32}(0.0)     Gray{Float32}(0.0)\n",
       " Gray{Float32}(0.0)  Gray{Float32}(0.0)     Gray{Float32}(0.0)\n",
       " Gray{Float32}(0.0)  Gray{Float32}(0.0)     Gray{Float32}(0.0)\n",
       " ⋮                                       ⋱  \n",
       " Gray{Float32}(0.0)  Gray{Float32}(0.0)     Gray{Float32}(0.0)\n",
       " Gray{Float32}(0.0)  Gray{Float32}(0.0)  …  Gray{Float32}(0.0)\n",
       " Gray{Float32}(0.0)  Gray{Float32}(0.0)     Gray{Float32}(0.0)\n",
       " Gray{Float32}(0.0)  Gray{Float32}(0.0)     Gray{Float32}(0.0)\n",
       " Gray{Float32}(0.0)  Gray{Float32}(0.0)     Gray{Float32}(0.0)\n",
       " Gray{Float32}(0.0)  Gray{Float32}(0.0)     Gray{Float32}(0.0)\n",
       " Gray{Float32}(0.0)  Gray{Float32}(0.0)  …  Gray{Float32}(0.0)\n",
       " Gray{Float32}(0.0)  Gray{Float32}(0.0)     Gray{Float32}(0.0)\n",
       " Gray{Float32}(0.0)  Gray{Float32}(0.0)     Gray{Float32}(0.0)"
      ]
     },
     "metadata": {},
     "output_type": "display_data"
    },
    {
     "data": {
      "image/png": "[encoded data removed]",
      "text/html": [
       "<img src=\"data:image/png;base64,iVBORw0KGgoAAAANSUhEUgAAAHAAAABwCAAAAADji6uXAAAABGdBTUEAALGPC/xhBQAAAAFzUkdCAK7OHOkAAAAgY0hSTQAAeiYAAICEAAD6AAAAgOgAAHUwAADqYAAAOpgAABdwnLpRPAAAAg1JREFUaAW9wb+L1gUAB+DnxY+CONzShd2gSwQKQdAYQnI4SD+Q9B842gJHIcpCg0BEEsucChIaGhTEUggdbGqJyKVoUyIcLj1wiJzehu/w8uJ7l+nr53miLMqiLMqiLMqiLMqiLMqiLMqiLMqiLMqiLMqiLMqiLMqiLMqiLMqiLMpijl7FPoyxiN9wHmsmoizKoizmYAnL+BQLGJvYgpMmoizKoizmYAUfGfyAMVZxCB/gpIkoi7Ioi0dwDNtwAb/ggcEmfIODBm/iO2zGNYzwk2lRFmVRFht4EXtxBFuxHz/iPm5jD97CGEdxHZtxAHtwD5dNi7Ioi7LYwGG8bXAbu7DLxAhj/Iyz2I7Xccbgc5w2LcqiLMpiAzsNzuN9nMAynjPtJg7gQyxgDSu47mFRFmVRFo9gFXfwDvbhomkrWDEY4Qt8a7Yoi7Ioi3Us4QU8wCmDBZzGyOAKxngWv+IW/sI564uyKIuyWMciduBrrOJ5fIIdGOMq3vD/RVmURVn8h2W8hPfwmsGXOOXxRFmURVmsYw0n8C6+xyLu4Tgu4Q+PJ8qiLMpihm3Yi90Gz+BvfIzPPJkoi7Ioixlu4GWMMMYqjuOcJxdlURZlMcMSfsef+AoX8I/5iLIoi7KY4RXcxRbcNV9RFmVRFjPc8vREWZRFWZRFWZRFWZRFWZRFWZRFWZRFWZRFWZRF2b96ME/g8/l3kwAAAABJRU5ErkJg\">"
      ],
      "text/plain": [
       "28×28 Array{Gray{Float32},2} with eltype Gray{Float32}:\n",
       " Gray{Float32}(0.0)  Gray{Float32}(0.0)  …  Gray{Float32}(0.0)\n",
       " Gray{Float32}(0.0)  Gray{Float32}(0.0)     Gray{Float32}(0.0)\n",
       " Gray{Float32}(0.0)  Gray{Float32}(0.0)     Gray{Float32}(0.0)\n",
       " Gray{Float32}(0.0)  Gray{Float32}(0.0)     Gray{Float32}(0.0)\n",
       " Gray{Float32}(0.0)  Gray{Float32}(0.0)     Gray{Float32}(0.0)\n",
       " Gray{Float32}(0.0)  Gray{Float32}(0.0)  …  Gray{Float32}(0.0)\n",
       " Gray{Float32}(0.0)  Gray{Float32}(0.0)     Gray{Float32}(0.0)\n",
       " Gray{Float32}(0.0)  Gray{Float32}(0.0)     Gray{Float32}(0.0)\n",
       " Gray{Float32}(0.0)  Gray{Float32}(0.0)     Gray{Float32}(0.0)\n",
       " Gray{Float32}(0.0)  Gray{Float32}(0.0)     Gray{Float32}(0.0)\n",
       " ⋮                                       ⋱  \n",
       " Gray{Float32}(0.0)  Gray{Float32}(0.0)     Gray{Float32}(0.0)\n",
       " Gray{Float32}(0.0)  Gray{Float32}(0.0)  …  Gray{Float32}(0.0)\n",
       " Gray{Float32}(0.0)  Gray{Float32}(0.0)     Gray{Float32}(0.0)\n",
       " Gray{Float32}(0.0)  Gray{Float32}(0.0)     Gray{Float32}(0.0)\n",
       " Gray{Float32}(0.0)  Gray{Float32}(0.0)     Gray{Float32}(0.0)\n",
       " Gray{Float32}(0.0)  Gray{Float32}(0.0)     Gray{Float32}(0.0)\n",
       " Gray{Float32}(0.0)  Gray{Float32}(0.0)  …  Gray{Float32}(0.0)\n",
       " Gray{Float32}(0.0)  Gray{Float32}(0.0)     Gray{Float32}(0.0)\n",
       " Gray{Float32}(0.0)  Gray{Float32}(0.0)     Gray{Float32}(0.0)"
      ]
     },
     "metadata": {},
     "output_type": "display_data"
    },
    {
     "data": {
      "image/png": "[encoded data removed]",
      "text/html": [
       "<img src=\"data:image/png;base64,iVBORw0KGgoAAAANSUhEUgAAAHAAAABwCAAAAADji6uXAAAABGdBTUEAALGPC/xhBQAAAAFzUkdCAK7OHOkAAAAgY0hSTQAAeiYAAICEAAD6AAAAgOgAAHUwAADqYAAAOpgAABdwnLpRPAAAAchJREFUaAW9wb2rzg0ABuBL3T4Gi80oMqkzvAuJmAxMFgOK3oWdFN56B2I6izwdZTDIQP6AY2OwWuRrYDolMTklJAxnOM/x/B4fqfu6oizKoizKoizKoizKoizKoizKoizKoizKoizKoizKoizKoizKoizKoizKoizKoizKoizKoizK4i9sw0ZLVuEbnuK16aIsyqIs/tBuHMG/iGWr8A2vcQkjw6IsyqIsfsNanME+7MAzHMYXvMCCZUcxa8nIpCiLsiiLn1iHCziK9XiIGbzCJ8PmLJnFyKQoi7Ioiym24jq24z7O45Fla/APnmDRSrdw1bAoi7IoiwEHcAePsRULVjqO/zGP/0zaYrooi7Ioix/sxF08wCG8N2kWJ3DXsBksGhZlURZlMWYz5nENp/DVpL3YgHuGrcY5XDEsyqIsymLMZbzFeXw17C0+YT9uW2k15vARFw2LsiiLshhzECN8MN0TnMYN7MIcFrAHJ7EJ+/DZsCiLsiiLMTN449dGeImzeGzJIm7iGN6ZLsqiLMpizHO/bx7z/lyURVmURVmURVmURVmURVmURVmURVmURVmURVmURVmURVmURVmURVmURVmURVmUfQf+J0LiT3eNfQAAAABJRU5ErkJg\">"
      ],
      "text/plain": [
       "28×28 Array{Gray{Float32},2} with eltype Gray{Float32}:\n",
       " Gray{Float32}(0.0)  Gray{Float32}(0.0)  …  Gray{Float32}(0.0)\n",
       " Gray{Float32}(0.0)  Gray{Float32}(0.0)     Gray{Float32}(0.0)\n",
       " Gray{Float32}(0.0)  Gray{Float32}(0.0)     Gray{Float32}(0.0)\n",
       " Gray{Float32}(0.0)  Gray{Float32}(0.0)     Gray{Float32}(0.0)\n",
       " Gray{Float32}(0.0)  Gray{Float32}(0.0)     Gray{Float32}(0.0)\n",
       " Gray{Float32}(0.0)  Gray{Float32}(0.0)  …  Gray{Float32}(0.0)\n",
       " Gray{Float32}(0.0)  Gray{Float32}(0.0)     Gray{Float32}(0.0)\n",
       " Gray{Float32}(0.0)  Gray{Float32}(0.0)     Gray{Float32}(0.0)\n",
       " Gray{Float32}(0.0)  Gray{Float32}(0.0)     Gray{Float32}(0.0)\n",
       " Gray{Float32}(0.0)  Gray{Float32}(0.0)     Gray{Float32}(0.0)\n",
       " ⋮                                       ⋱  \n",
       " Gray{Float32}(0.0)  Gray{Float32}(0.0)     Gray{Float32}(0.0)\n",
       " Gray{Float32}(0.0)  Gray{Float32}(0.0)  …  Gray{Float32}(0.0)\n",
       " Gray{Float32}(0.0)  Gray{Float32}(0.0)     Gray{Float32}(0.0)\n",
       " Gray{Float32}(0.0)  Gray{Float32}(0.0)     Gray{Float32}(0.0)\n",
       " Gray{Float32}(0.0)  Gray{Float32}(0.0)     Gray{Float32}(0.0)\n",
       " Gray{Float32}(0.0)  Gray{Float32}(0.0)     Gray{Float32}(0.0)\n",
       " Gray{Float32}(0.0)  Gray{Float32}(0.0)  …  Gray{Float32}(0.0)\n",
       " Gray{Float32}(0.0)  Gray{Float32}(0.0)     Gray{Float32}(0.0)\n",
       " Gray{Float32}(0.0)  Gray{Float32}(0.0)     Gray{Float32}(0.0)"
      ]
     },
     "metadata": {},
     "output_type": "display_data"
    },
    {
     "data": {
      "image/png": "[encoded data removed]",
      "text/html": [
       "<img src=\"data:image/png;base64,iVBORw0KGgoAAAANSUhEUgAAAHAAAABwCAAAAADji6uXAAAABGdBTUEAALGPC/xhBQAAAAFzUkdCAK7OHOkAAAAgY0hSTQAAeiYAAICEAAD6AAAAgOgAAHUwAADqYAAAOpgAABdwnLpRPAAAAbhJREFUaAW9wTGLzwEABuDn9CYGXcnkblAyXJjoYr/JLpIOmawopSySQbEqvoDLudwmk41sFpPBotSRMrgYnOE3XLr87zj3Pk+URVmURVmURVmURVmURVmURVmURVmURVmURVmURVmURVmURVmURVmURVmUTOM1oizKoiy22E5cwHVMIsqiLMpiC+3DVVzCLYMoi7Ioiy0ygzmM4yUeGkRZlEVZbMAeLGIZYziIzzhorXHcwVmDJ5jFd4Moi7Ioi3UcxwNMGYxhBbtwDK+smsIzTGAZ57Dgd1EWZVEWI+zGPUzhORbxBZdxFJM4jENYxkVM4BEeY9FaURZlURYjnMI0lnDCYAeuYAxzBtvwE0u4hrv+LMqiLMpihOtYwVOr9uMIVqz6iRe4j3mjRVmURVmMsBcrWLTqvME3LOC2wQ+8t74oi7Ioiw2YxTuDIziNt3jr70VZlEVZjHADN3ESMwYfMe/fRVmURVmMcBsHcAyT+IozNifKoizKYh0XsB1T+IQPNifKoizKYgN+4I3/I8qiLMqiLMqiLMqiLMqiLMqiLMqiLMqiLMqiLMqiLMqiLMqiLMqiLMp+AaPgOvAK93PkAAAAAElFTkSuQmCC\">"
      ],
      "text/plain": [
       "28×28 Array{Gray{Float32},2} with eltype Gray{Float32}:\n",
       " Gray{Float32}(0.0)  Gray{Float32}(0.0)  …  Gray{Float32}(0.0)\n",
       " Gray{Float32}(0.0)  Gray{Float32}(0.0)     Gray{Float32}(0.0)\n",
       " Gray{Float32}(0.0)  Gray{Float32}(0.0)     Gray{Float32}(0.0)\n",
       " Gray{Float32}(0.0)  Gray{Float32}(0.0)     Gray{Float32}(0.0)\n",
       " Gray{Float32}(0.0)  Gray{Float32}(0.0)     Gray{Float32}(0.0)\n",
       " Gray{Float32}(0.0)  Gray{Float32}(0.0)  …  Gray{Float32}(0.0)\n",
       " Gray{Float32}(0.0)  Gray{Float32}(0.0)     Gray{Float32}(0.0)\n",
       " Gray{Float32}(0.0)  Gray{Float32}(0.0)     Gray{Float32}(0.0)\n",
       " Gray{Float32}(0.0)  Gray{Float32}(0.0)     Gray{Float32}(0.0)\n",
       " Gray{Float32}(0.0)  Gray{Float32}(0.0)     Gray{Float32}(0.0)\n",
       " ⋮                                       ⋱  \n",
       " Gray{Float32}(0.0)  Gray{Float32}(0.0)     Gray{Float32}(0.0)\n",
       " Gray{Float32}(0.0)  Gray{Float32}(0.0)  …  Gray{Float32}(0.0)\n",
       " Gray{Float32}(0.0)  Gray{Float32}(0.0)     Gray{Float32}(0.0)\n",
       " Gray{Float32}(0.0)  Gray{Float32}(0.0)     Gray{Float32}(0.0)\n",
       " Gray{Float32}(0.0)  Gray{Float32}(0.0)     Gray{Float32}(0.0)\n",
       " Gray{Float32}(0.0)  Gray{Float32}(0.0)     Gray{Float32}(0.0)\n",
       " Gray{Float32}(0.0)  Gray{Float32}(0.0)  …  Gray{Float32}(0.0)\n",
       " Gray{Float32}(0.0)  Gray{Float32}(0.0)     Gray{Float32}(0.0)\n",
       " Gray{Float32}(0.0)  Gray{Float32}(0.0)     Gray{Float32}(0.0)"
      ]
     },
     "metadata": {},
     "output_type": "display_data"
    }
   ],
   "source": [
    "for i in 1:20\n",
    "    img = reshape(x_train[:,:,:, i], 28, 28)\n",
    "    image = Gray.(img)\n",
    "    display(image)\n",
    "end"
   ]
  },
  {
   "cell_type": "code",
   "execution_count": 15,
   "metadata": {},
   "outputs": [
    {
     "data": {
      "text/plain": [
       "Adam(0.001, (0.9, 0.999), 1.0e-8, IdDict{Any, Any}())"
      ]
     },
     "metadata": {},
     "output_type": "display_data"
    }
   ],
   "source": [
    "model = Chain(\n",
    "        # 28x28 => 14x14\n",
    "        Conv((5, 5), 1 => 8, pad=2, stride=2, relu),\n",
    "        # 14x14 => 7x7\n",
    "        Conv((3, 3), 8 => 16, pad=1, stride=2, relu),\n",
    "        # 7x7 => 4x4\n",
    "        Conv((3, 3), 16 => 32, pad=1, stride=2, relu),\n",
    "        # 4x4 => 2x2\n",
    "        Conv((3, 3), 32 => 32, pad=1, stride=2, relu),\n",
    "\n",
    "        # Average pooling\n",
    "        GlobalMeanPool(),\n",
    "        Flux.flatten,\n",
    "\n",
    "        Dense(32, 10),\n",
    "        softmax,\n",
    "    )\n",
    "loss(x,y) = Flux.crossentropy(model(x),y)\n",
    "opt = ADAM()"
   ]
  },
  {
   "cell_type": "code",
   "execution_count": 16,
   "metadata": {},
   "outputs": [
    {
     "data": {
      "text/plain": [
       "(28, 28, 1, 60000)"
      ]
     },
     "metadata": {},
     "output_type": "display_data"
    }
   ],
   "source": [
    "evalcb = () -> @show(loss(x_train, y_train))\n",
    "parameters = Flux.params(model)\n",
    "size(x_train)"
   ]
  },
  {
   "cell_type": "code",
   "execution_count": null,
   "metadata": {},
   "outputs": [],
   "source": [
    "accuracy(y,ye) = mean(onecold(y) .== onecold(ye))"
   ]
  },
  {
   "cell_type": "code",
   "execution_count": 17,
   "metadata": {},
   "outputs": [
    {
     "name": "stdout",
     "output_type": "stream",
     "text": [
      "loss(x_train, y_train) = 0.25515643f0\n",
      "loss(x_train, y_train) = 0.15804149f0\n",
      "loss(x_train, y_train) = 0.12274866f0\n",
      "loss(x_train, y_train) = 0.1006379f0\n",
      "loss(x_train, y_train) = 0.08575908f0\n",
      "loss(x_train, y_train) = 0.07156449f0\n",
      "loss(x_train, y_train) = 0.062623225f0\n",
      "loss(x_train, y_train) = 0.055090614f0\n",
      "loss(x_train, y_train) = 0.05219989f0\n",
      "loss(x_train, y_train) = 0.050212238f0\n"
     ]
    }
   ],
   "source": [
    "for i in 1:10\n",
    "    Flux.train!(loss, parameters, data_train, opt)\n",
    "    println(\"Epoch: $i:\")\n",
    "    @show(loss(x_train, y_train))\n",
    "    @show(accuracy(model(x_train,y_train)))\n",
    "end"
   ]
  },
  {
   "cell_type": "code",
   "execution_count": 18,
   "metadata": {},
   "outputs": [
    {
     "data": {
      "image/png": "[encoded data removed]",
      "text/html": [
       "<img src=\"data:image/png;base64,iVBORw0KGgoAAAANSUhEUgAAAHAAAABwCAAAAADji6uXAAAABGdBTUEAALGPC/xhBQAAAAFzUkdCAK7OHOkAAAAgY0hSTQAAeiYAAICEAAD6AAAAgOgAAHUwAADqYAAAOpgAABdwnLpRPAAAAiVJREFUaAW9wU/InwMAB/DPtq9FSq3sMCeK0pYDudhNUpKU8q/eemsrB6W8xeRmO2zqrbmwy2qKV+JoN7m4yeWNSJQWiRDvEAevvXsdnsPTrz2/31q9fT+fKIuyKIuyKIuyKIuyKIuyKIuyKIuyKIuyKIuyKIuyKIuyKIuy2EG34jZcwPemRVmURVnskOdwHPuwgT/wCV7GT0ZRFmVRFjvkT3yEGw3uwxK+wUmjKIuyKIsFrsczeB+/WmwNa0areAEHzYqyKIuyWOAEXsTteN61+czgaSwZRVmURVnMcT9W8A9eN3oDS9iPS67uU7OiLMqiLCbsxyqCd/Ct0RJuwp340ny7sAtfmBVlURZlMWEZ9+BvHDfYi0dxg8HXFjuMbfxuVpRFWZTFhMcM3sYPBs/iNYNti+3DA9jAWbOiLMqiLCYcxhY+MDpo9CG2zHcad+AMvjMryqIsymKOLfyI3TiEp4wewt1YN2s37sIT+A+nXCnKoizKYo7r8AgexqrBL7gZe3AKT+Ivo5dw0uBd/OxKURZlURYT3sQRnEAMLuBx3IszeBBf4SyCZdxisI4V06IsyqIsJhzDHixjEys4h3/xOS7hHA7gFbPewxFsmhZlURZlMeEijuIYLmPDrLdwEYdwFJtYwzo+xqb5oizKoizm2MZv5juP83jVtYmyKIuyKIuyKIuyKIuyKIuyKIuyKIuyKIuyKIuyKIuyKIuyKIuyKIuy/wECTlf4ZCjZlAAAAABJRU5ErkJg\">"
      ],
      "text/plain": [
       "28×28 Array{Gray{Float32},2} with eltype Gray{Float32}:\n",
       " Gray{Float32}(0.0)  Gray{Float32}(0.0)  …  Gray{Float32}(0.0)\n",
       " Gray{Float32}(0.0)  Gray{Float32}(0.0)     Gray{Float32}(0.0)\n",
       " Gray{Float32}(0.0)  Gray{Float32}(0.0)     Gray{Float32}(0.0)\n",
       " Gray{Float32}(0.0)  Gray{Float32}(0.0)     Gray{Float32}(0.0)\n",
       " Gray{Float32}(0.0)  Gray{Float32}(0.0)     Gray{Float32}(0.0)\n",
       " Gray{Float32}(0.0)  Gray{Float32}(0.0)  …  Gray{Float32}(0.0)\n",
       " Gray{Float32}(0.0)  Gray{Float32}(0.0)     Gray{Float32}(0.0)\n",
       " Gray{Float32}(0.0)  Gray{Float32}(0.0)     Gray{Float32}(0.0)\n",
       " Gray{Float32}(0.0)  Gray{Float32}(0.0)     Gray{Float32}(0.0)\n",
       " Gray{Float32}(0.0)  Gray{Float32}(0.0)     Gray{Float32}(0.0)\n",
       " ⋮                                       ⋱  \n",
       " Gray{Float32}(0.0)  Gray{Float32}(0.0)     Gray{Float32}(0.0)\n",
       " Gray{Float32}(0.0)  Gray{Float32}(0.0)  …  Gray{Float32}(0.0)\n",
       " Gray{Float32}(0.0)  Gray{Float32}(0.0)     Gray{Float32}(0.0)\n",
       " Gray{Float32}(0.0)  Gray{Float32}(0.0)     Gray{Float32}(0.0)\n",
       " Gray{Float32}(0.0)  Gray{Float32}(0.0)     Gray{Float32}(0.0)\n",
       " Gray{Float32}(0.0)  Gray{Float32}(0.0)     Gray{Float32}(0.0)\n",
       " Gray{Float32}(0.0)  Gray{Float32}(0.0)  …  Gray{Float32}(0.0)\n",
       " Gray{Float32}(0.0)  Gray{Float32}(0.0)     Gray{Float32}(0.0)\n",
       " Gray{Float32}(0.0)  Gray{Float32}(0.0)     Gray{Float32}(0.0)"
      ]
     },
     "metadata": {},
     "output_type": "display_data"
    }
   ],
   "source": [
    "img = reshape(x_test[:,:,:, 91], 28, 28)\n",
    "image = Gray.(img)\n",
    "display(image)"
   ]
  },
  {
   "cell_type": "code",
   "execution_count": 32,
   "metadata": {},
   "outputs": [
    {
     "name": "stdout",
     "output_type": "stream",
     "text": [
      "Predict to image 91 from Test dataset is 3\n"
     ]
    }
   ],
   "source": [
    "y = model(reshape(x_test[:,:,:, 91], (size(x_test[:,:,:, 91])[1], size(x_test[:,:,:, 91])[2], 1, 1)))\n",
    "pred = argmax(y)[1]-1\n",
    "println(\"Predict to image 91 from Test dataset is $pred\")"
   ]
  },
  {
   "cell_type": "code",
   "execution_count": 33,
   "metadata": {},
   "outputs": [
    {
     "name": "stdout",
     "output_type": "stream",
     "text": [
      "Accuracy: 0.9764\n"
     ]
    }
   ],
   "source": [
    "println(\"Accuracy: $(accuracy(model(x_test), y_test))\")"
   ]
  }
 ],
 "metadata": {
  "kernelspec": {
   "display_name": "Julia 1.10.2",
   "language": "julia",
   "name": "julia-1.10"
  },
  "language_info": {
   "file_extension": ".jl",
   "mimetype": "application/julia",
   "name": "julia",
   "version": "1.10.2"
  }
 },
 "nbformat": 4,
 "nbformat_minor": 2
}
